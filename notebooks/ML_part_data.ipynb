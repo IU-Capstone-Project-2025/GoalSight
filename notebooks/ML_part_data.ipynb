{
 "cells": [
  {
   "metadata": {},
   "cell_type": "markdown",
   "source": "## It aggregates data from multiple sources into a single dataset and simple MLP and LogisticRegression.",
   "id": "af49bbe8b9b467df"
  },
  {
   "metadata": {},
   "cell_type": "markdown",
   "source": "### Necessary library imports",
   "id": "2f8fc1d499de8d72"
  },
  {
   "metadata": {
    "ExecuteTime": {
     "end_time": "2025-06-22T20:24:34.205855Z",
     "start_time": "2025-06-22T20:24:31.136696Z"
    }
   },
   "cell_type": "code",
   "source": [
    "import pandas as pd\n",
    "import _sqlite3 as db\n",
    "import numpy as np\n",
    "from sklearn.preprocessing import StandardScaler\n",
    "from sklearn.model_selection import cross_val_score, StratifiedKFold, train_test_split\n",
    "from sklearn.model_selection import GridSearchCV\n",
    "from sklearn.linear_model import LogisticRegression\n",
    "from torch import nn\n",
    "from torch.utils.data import TensorDataset, DataLoader, WeightedRandomSampler\n",
    "from sklearn.metrics import classification_report, confusion_matrix, ConfusionMatrixDisplay\n",
    "import matplotlib.pyplot as plt\n",
    "import torch\n",
    "from sklearn.metrics import classification_report, confusion_matrix, accuracy_score\n",
    "import seaborn as sns\n",
    "import sklearn as sk\n",
    "import sklearn.metrics as metrics\n",
    "from regex import Match\n",
    "from sklearn.metrics import roc_curve, auc, precision_recall_curve"
   ],
   "id": "d15f6bf91dce061e",
   "outputs": [],
   "execution_count": 1
  },
  {
   "metadata": {},
   "cell_type": "markdown",
   "source": "### Extraction data from sqlite DB",
   "id": "f35a5e94eae80330"
  },
  {
   "metadata": {
    "ExecuteTime": {
     "end_time": "2025-06-22T20:28:18.888Z",
     "start_time": "2025-06-22T20:28:18.860869Z"
    }
   },
   "cell_type": "code",
   "source": [
    "# function for tables extraction\n",
    "def extract_tables(cursor):\n",
    "    for row in cursor.execute(\"SELECT name FROM sqlite_master WHERE type='table';\"):\n",
    "        print(row)\n",
    "\n",
    "# Extraction tables from European Soccer Database (https://www.kaggle.com/datasets/hugomathien/soccer?resource=download)\n",
    "con_euro = db.connect('Data/EuroSoccer.sqlite')\n",
    "cursor = con_euro.cursor()\n",
    "\n",
    "print(\"Tables from European Soccer Database:\\n\")\n",
    "extract_tables(cursor)\n",
    "print('\\n')\n",
    "\n",
    "# Extraction tables from World Soccer DB: archive of odds [01-JUN-2021] (https://www.kaggle.com/datasets/sashchernuh/european-football/data?select=database.sqlite)\n",
    "con_world = db.connect('Data/WorldSoccer.sqlite')\n",
    "cursor = con_world.cursor()\n",
    "\n",
    "print(\"Tables from WorldSoccer Database:\\n\")\n",
    "extract_tables(cursor)\n"
   ],
   "id": "7863ce65faf48e21",
   "outputs": [
    {
     "name": "stdout",
     "output_type": "stream",
     "text": [
      "Tables from European Soccer Database:\n",
      "\n",
      "('sqlite_sequence',)\n",
      "('Player_Attributes',)\n",
      "('Player',)\n",
      "('Match',)\n",
      "('League',)\n",
      "('Country',)\n",
      "('Team',)\n",
      "('Team_Attributes',)\n",
      "\n",
      "\n"
     ]
    },
    {
     "ename": "OperationalError",
     "evalue": "unable to open database file",
     "output_type": "error",
     "traceback": [
      "\u001B[31m---------------------------------------------------------------------------\u001B[39m",
      "\u001B[31mOperationalError\u001B[39m                          Traceback (most recent call last)",
      "\u001B[36mCell\u001B[39m\u001B[36m \u001B[39m\u001B[32mIn[7]\u001B[39m\u001B[32m, line 15\u001B[39m\n\u001B[32m     12\u001B[39m \u001B[38;5;28mprint\u001B[39m(\u001B[33m'\u001B[39m\u001B[38;5;130;01m\\n\u001B[39;00m\u001B[33m'\u001B[39m)\n\u001B[32m     14\u001B[39m \u001B[38;5;66;03m# Extraction tables from World Soccer DB: archive of odds [01-JUN-2021] (https://www.kaggle.com/datasets/sashchernuh/european-football/data?select=database.sqlite)\u001B[39;00m\n\u001B[32m---> \u001B[39m\u001B[32m15\u001B[39m con_world = \u001B[43mdb\u001B[49m\u001B[43m.\u001B[49m\u001B[43mconnect\u001B[49m\u001B[43m(\u001B[49m\u001B[33;43m'\u001B[39;49m\u001B[33;43mdata/raw/WorldSoccer.sqlite\u001B[39;49m\u001B[33;43m'\u001B[39;49m\u001B[43m)\u001B[49m\n\u001B[32m     16\u001B[39m cursor = con_world.cursor()\n\u001B[32m     18\u001B[39m \u001B[38;5;28mprint\u001B[39m(\u001B[33m\"\u001B[39m\u001B[33mTables from WorldSoccer Database:\u001B[39m\u001B[38;5;130;01m\\n\u001B[39;00m\u001B[33m\"\u001B[39m)\n",
      "\u001B[31mOperationalError\u001B[39m: unable to open database file"
     ]
    }
   ],
   "execution_count": 7
  },
  {
   "metadata": {},
   "cell_type": "markdown",
   "source": "### Extraction data from tables and .csv files to DataFrames",
   "id": "eb127877fb45c309"
  },
  {
   "metadata": {
    "ExecuteTime": {
     "end_time": "2025-06-22T19:24:20.322341Z",
     "start_time": "2025-06-22T19:23:59.253734Z"
    }
   },
   "cell_type": "code",
   "source": [
    "# Extraction data from Euro Soccer\n",
    "match_table = pd.read_sql_query(\"SELECT * FROM Match;\", con_euro)\n",
    "team_table = pd.read_sql_query(\"SELECT * FROM Team;\", con_euro)\n",
    "team_attributes = pd.read_sql_query(\"SELECT * FROM Team_Attributes;\", con_euro)\n",
    "country_table = pd.read_sql_query(\"SELECT * FROM Country;\", con_euro)\n",
    "players = pd.read_sql_query(\"SELECT * FROM Player;\", con_euro)\n",
    "player_attributes = pd.read_sql_query(\"SELECT * FROM Player_Attributes;\", con_euro)\n",
    "leagues_table = pd.read_sql_query(\"SELECT * FROM League;\", con_euro)\n",
    "\n",
    "# Extraction data from World Soccer\n",
    "betfront = pd.read_sql_query(\"SELECT * FROM betfront;\", con_world)\n",
    "football_data = pd.read_sql_query(\"SELECT * FROM football_data;\", con_world)\n",
    "\n",
    "# Extraction data from Football Players Data/fifa_players.csv (https://www.kaggle.com/datasets/maso0dahmed/football-players-data)\n",
    "fifa_players = pd.read_csv('Data/fifa_players.csv')\n",
    "\n",
    "# Extraction data from International football results from 1872 to 2025 (https://www.kaggle.com/datasets/martj42/international-football-results-from-1872-to-2017/data?select=former_names.csv)\n",
    "former_names = pd.read_csv('Data/former_names.csv')\n",
    "goalscorers = pd.read_csv('Data/goalscorers.csv')\n",
    "shootouts = pd.read_csv('Data/shootouts.csv')\n",
    "results = pd.read_csv('Data/results.csv')\n",
    "\n",
    "# Look up of all data\n",
    "print(f\"match_table: {match_table.columns.tolist()}\\n\")\n",
    "print(f\"team_table: {team_table.columns.tolist()}\\n\")\n",
    "print(f\"team_attributes: {team_attributes.columns.tolist()}\\n\")\n",
    "print(f\"country_table: {country_table.columns.tolist()}\\n\")\n",
    "print(f\"players: {players.columns.tolist()}\\n\")\n",
    "print(f\"player_attributes: {player_attributes.columns.tolist()}\\n\")\n",
    "print(f\"leagues: {leagues_table.columns.tolist()}\\n\")\n",
    "\n",
    "print(f\"betfront: {betfront.columns.tolist()}\\n\")\n",
    "print(f\"football_data: {football_data.columns.tolist()}\\n\")\n",
    "print(f\"fifa_players: {fifa_players.columns.tolist()}\\n\")\n",
    "print(f\"former_names: {former_names.columns.tolist()}\\n\")\n",
    "print(f\"shootouts: {shootouts.columns.tolist()}\\n\")\n",
    "print(f\"results: {results.columns.tolist()}\\n\")"
   ],
   "id": "b1d90ade87b4d579",
   "outputs": [
    {
     "name": "stdout",
     "output_type": "stream",
     "text": [
      "match_table: ['id', 'country_id', 'league_id', 'season', 'stage', 'date', 'match_api_id', 'home_team_api_id', 'away_team_api_id', 'home_team_goal', 'away_team_goal', 'home_player_X1', 'home_player_X2', 'home_player_X3', 'home_player_X4', 'home_player_X5', 'home_player_X6', 'home_player_X7', 'home_player_X8', 'home_player_X9', 'home_player_X10', 'home_player_X11', 'away_player_X1', 'away_player_X2', 'away_player_X3', 'away_player_X4', 'away_player_X5', 'away_player_X6', 'away_player_X7', 'away_player_X8', 'away_player_X9', 'away_player_X10', 'away_player_X11', 'home_player_Y1', 'home_player_Y2', 'home_player_Y3', 'home_player_Y4', 'home_player_Y5', 'home_player_Y6', 'home_player_Y7', 'home_player_Y8', 'home_player_Y9', 'home_player_Y10', 'home_player_Y11', 'away_player_Y1', 'away_player_Y2', 'away_player_Y3', 'away_player_Y4', 'away_player_Y5', 'away_player_Y6', 'away_player_Y7', 'away_player_Y8', 'away_player_Y9', 'away_player_Y10', 'away_player_Y11', 'home_player_1', 'home_player_2', 'home_player_3', 'home_player_4', 'home_player_5', 'home_player_6', 'home_player_7', 'home_player_8', 'home_player_9', 'home_player_10', 'home_player_11', 'away_player_1', 'away_player_2', 'away_player_3', 'away_player_4', 'away_player_5', 'away_player_6', 'away_player_7', 'away_player_8', 'away_player_9', 'away_player_10', 'away_player_11', 'goal', 'shoton', 'shotoff', 'foulcommit', 'card', 'cross', 'corner', 'possession', 'B365H', 'B365D', 'B365A', 'BWH', 'BWD', 'BWA', 'IWH', 'IWD', 'IWA', 'LBH', 'LBD', 'LBA', 'PSH', 'PSD', 'PSA', 'WHH', 'WHD', 'WHA', 'SJH', 'SJD', 'SJA', 'VCH', 'VCD', 'VCA', 'GBH', 'GBD', 'GBA', 'BSH', 'BSD', 'BSA']\n",
      "\n",
      "team_table: ['id', 'team_api_id', 'team_fifa_api_id', 'team_long_name', 'team_short_name']\n",
      "\n",
      "team_attributes: ['id', 'team_fifa_api_id', 'team_api_id', 'date', 'buildUpPlaySpeed', 'buildUpPlaySpeedClass', 'buildUpPlayDribbling', 'buildUpPlayDribblingClass', 'buildUpPlayPassing', 'buildUpPlayPassingClass', 'buildUpPlayPositioningClass', 'chanceCreationPassing', 'chanceCreationPassingClass', 'chanceCreationCrossing', 'chanceCreationCrossingClass', 'chanceCreationShooting', 'chanceCreationShootingClass', 'chanceCreationPositioningClass', 'defencePressure', 'defencePressureClass', 'defenceAggression', 'defenceAggressionClass', 'defenceTeamWidth', 'defenceTeamWidthClass', 'defenceDefenderLineClass']\n",
      "\n",
      "country_table: ['id', 'name']\n",
      "\n",
      "players: ['id', 'player_api_id', 'player_name', 'player_fifa_api_id', 'birthday', 'height', 'weight']\n",
      "\n",
      "player_attributes: ['id', 'player_fifa_api_id', 'player_api_id', 'date', 'overall_rating', 'potential', 'preferred_foot', 'attacking_work_rate', 'defensive_work_rate', 'crossing', 'finishing', 'heading_accuracy', 'short_passing', 'volleys', 'dribbling', 'curve', 'free_kick_accuracy', 'long_passing', 'ball_control', 'acceleration', 'sprint_speed', 'agility', 'reactions', 'balance', 'shot_power', 'jumping', 'stamina', 'strength', 'long_shots', 'aggression', 'interceptions', 'positioning', 'vision', 'penalties', 'marking', 'standing_tackle', 'sliding_tackle', 'gk_diving', 'gk_handling', 'gk_kicking', 'gk_positioning', 'gk_reflexes']\n",
      "\n",
      "leagues: ['id', 'country_id', 'name']\n",
      "\n",
      "betfront: ['YEAR', 'DATETIME', 'COUNTRY', 'COMPETION', 'MATCH', 'HOME_OPENING', 'DRAW_OPENING', 'AWAY_OPENING', 'HOME_CLOSING', 'DRAW_CLOSING', 'AWAY_CLOSING', 'HT', 'FT', 'TOTAL_FT', 'HTG1', 'HTG2', 'FTG1', 'FTG2']\n",
      "\n",
      "football_data: ['Season', 'Datetime', 'Div', 'Country', 'League', 'Referee', 'HomeTeam', 'AwayTeam', 'FTHG', 'FTAG', 'FTR', 'HTHG', 'HTAG', 'HTR', 'PSH', 'PSD', 'PSA', 'B365H', 'B365D', 'B365A', 'LBH', 'LBD', 'LBA', 'BWH', 'BWD', 'BWA', 'ABP', 'AC', 'AF', 'AFKC', 'AHCh', 'AHW', 'AHh', 'AO', 'AR', 'AS', 'AST', 'AT', 'AY', 'Attendance', 'Avg<2.5', 'Avg>2.5', 'AvgA', 'AvgAHA', 'AvgAHH', 'AvgC<2.5', 'AvgC>2.5', 'AvgCA', 'AvgCAHA', 'AvgCAHH', 'AvgCD', 'AvgCH', 'AvgD', 'AvgH', 'B365<2.5', 'B365>2.5', 'B365AH', 'B365AHA', 'B365AHH', 'B365C<2.5', 'B365C>2.5', 'B365CA', 'B365CAHA', 'B365CAHH', 'B365CD', 'B365CH', 'BSA', 'BSD', 'BSH', 'BWCA', 'BWCD', 'BWCH', 'Bb1X2', 'BbAH', 'BbAHh', 'BbAv<2.5', 'BbAv>2.5', 'BbAvA', 'BbAvAHA', 'BbAvAHH', 'BbAvD', 'BbAvH', 'BbMx<2.5', 'BbMx>2.5', 'BbMxA', 'BbMxAHA', 'BbMxAHH', 'BbMxD', 'BbMxH', 'BbOU', 'Date', 'GB<2.5', 'GB>2.5', 'GBA', 'GBAH', 'GBAHA', 'GBAHH', 'GBD', 'GBH', 'HBP', 'HC', 'HF', 'HFKC', 'HHW', 'HO', 'HR', 'HS', 'HST', 'HT', 'HY', 'IWA', 'IWCA', 'IWCD', 'IWCH', 'IWD', 'IWH', 'LBAH', 'LBAHA', 'LBAHH', 'Max<2.5', 'Max>2.5', 'MaxA', 'MaxAHA', 'MaxAHH', 'MaxC<2.5', 'MaxC>2.5', 'MaxCA', 'MaxCAHA', 'MaxCAHH', 'MaxCD', 'MaxCH', 'MaxD', 'MaxH', 'P<2.5', 'P>2.5', 'PA', 'PAHA', 'PAHH', 'PC<2.5', 'PC>2.5', 'PCAHA', 'PCAHH', 'PD', 'PH', 'PSCA', 'PSCD', 'PSCH', 'SBA', 'SBD', 'SBH', 'SJA', 'SJD', 'SJH', 'SOA', 'SOD', 'SOH', 'SYA', 'SYD', 'SYH', 'Time', 'VCA', 'VCCA', 'VCCD', 'VCCH', 'VCD', 'VCH', 'WHA', 'WHCA', 'WHCD', 'WHCH', 'WHD', 'WHH']\n",
      "\n",
      "fifa_players: ['name', 'full_name', 'birth_date', 'age', 'height_cm', 'weight_kgs', 'positions', 'nationality', 'overall_rating', 'potential', 'value_euro', 'wage_euro', 'preferred_foot', 'international_reputation(1-5)', 'weak_foot(1-5)', 'skill_moves(1-5)', 'body_type', 'release_clause_euro', 'national_team', 'national_rating', 'national_team_position', 'national_jersey_number', 'crossing', 'finishing', 'heading_accuracy', 'short_passing', 'volleys', 'dribbling', 'curve', 'freekick_accuracy', 'long_passing', 'ball_control', 'acceleration', 'sprint_speed', 'agility', 'reactions', 'balance', 'shot_power', 'jumping', 'stamina', 'strength', 'long_shots', 'aggression', 'interceptions', 'positioning', 'vision', 'penalties', 'composure', 'marking', 'standing_tackle', 'sliding_tackle']\n",
      "\n",
      "former_names: ['current', 'former', 'start_date', 'end_date']\n",
      "\n",
      "shootouts: ['date', 'home_team', 'away_team', 'winner', 'first_shooter']\n",
      "\n",
      "results: ['date', 'home_team', 'away_team', 'home_score', 'away_score', 'tournament', 'city', 'country', 'neutral']\n",
      "\n"
     ]
    }
   ],
   "execution_count": 5
  },
  {
   "metadata": {},
   "cell_type": "markdown",
   "source": "### Creating labels",
   "id": "f845f61a36e41e2f"
  },
  {
   "metadata": {
    "ExecuteTime": {
     "end_time": "2025-06-22T19:25:02.795240Z",
     "start_time": "2025-06-22T19:25:02.428556Z"
    }
   },
   "cell_type": "code",
   "source": [
    "def create_match_result(row):\n",
    "    if row['home_team_goal'] > row['away_team_goal']:\n",
    "        return 1  # Home win\n",
    "    elif row['home_team_goal'] < row['away_team_goal']:\n",
    "        return -1  # Away win\n",
    "    else:\n",
    "        return 0  # Draw\n",
    "\n",
    "match_table['result'] = match_table.apply(create_match_result, axis=1)\n",
    "match_table['result_label'] = match_table['result'].map({1: 'home_win', 0: 'draw', -1: 'away_win'})"
   ],
   "id": "e9a5cb263445dc3b",
   "outputs": [],
   "execution_count": 6
  },
  {
   "metadata": {},
   "cell_type": "markdown",
   "source": "### The main combination of match data with information about teams and leagues",
   "id": "bba5a97a6a03b5da"
  },
  {
   "metadata": {
    "ExecuteTime": {
     "end_time": "2025-06-22T19:25:06.763916Z",
     "start_time": "2025-06-22T19:25:06.556304Z"
    }
   },
   "cell_type": "code",
   "source": [
    "matches_enhanced = match_table.merge(\n",
    "    leagues_table, left_on='league_id', right_on='id', how='left', suffixes=('', '_league')\n",
    ").merge(\n",
    "    country_table, left_on='country_id', right_on='id', how='left', suffixes=('', '_country')\n",
    ")\n",
    "matches_enhanced = matches_enhanced.merge(\n",
    "    team_table, left_on='home_team_api_id', right_on='team_api_id',\n",
    "    how='left', suffixes=('', '_home_team')\n",
    ")\n",
    "matches_enhanced.rename(columns={\n",
    "    'team_long_name': 'home_team_name',\n",
    "    'team_short_name': 'home_team_short'\n",
    "}, inplace=True)\n",
    "matches_enhanced = matches_enhanced.merge(\n",
    "    team_table, left_on='away_team_api_id', right_on='team_api_id',\n",
    "    how='left', suffixes=('', '_away_team')\n",
    ")\n",
    "matches_enhanced.rename(columns={\n",
    "    'team_long_name': 'away_team_name',\n",
    "    'team_short_name': 'away_team_short'\n",
    "}, inplace=True)\n",
    "\n",
    "print(f\"The main dataset has been created: {matches_enhanced.shape}\")"
   ],
   "id": "2f4449861463cd06",
   "outputs": [
    {
     "name": "stdout",
     "output_type": "stream",
     "text": [
      "The main dataset has been created: (25979, 132)\n"
     ]
    }
   ],
   "execution_count": 7
  },
  {
   "metadata": {},
   "cell_type": "markdown",
   "source": "### Function to extract data about players for specific match",
   "id": "7bb670ffff258aca"
  },
  {
   "metadata": {
    "ExecuteTime": {
     "end_time": "2025-06-22T19:25:14.917302Z",
     "start_time": "2025-06-22T19:25:14.905310Z"
    }
   },
   "cell_type": "code",
   "source": [
    "def get_match_players(match_row, team_type='home'):\n",
    "    player_columns = [f'{team_type}_player_{i}' for i in range(1, 12)]\n",
    "    players = []\n",
    "    for col in player_columns:\n",
    "        if col in match_row and pd.notna(match_row[col]):\n",
    "            players.append(int(match_row[col]))\n",
    "    return players\n",
    "\n",
    "def get_players_attributes_for_match(player_ids, match_date, player_attributes):\n",
    "    if not player_ids:\n",
    "        return pd.DataFrame()\n",
    "    match_date = pd.to_datetime(match_date)\n",
    "    relevant_attributes = player_attributes[\n",
    "        player_attributes['player_api_id'].isin(player_ids)\n",
    "    ].copy()\n",
    "\n",
    "    if relevant_attributes.empty:\n",
    "        return pd.DataFrame()\n",
    "    relevant_attributes['date'] = pd.to_datetime(relevant_attributes['date'])\n",
    "    player_attrs_list = []\n",
    "    for player_id in player_ids:\n",
    "        player_data = relevant_attributes[\n",
    "            (relevant_attributes['player_api_id'] == player_id) &\n",
    "            (relevant_attributes['date'] <= match_date)\n",
    "        ]\n",
    "\n",
    "        if not player_data.empty:\n",
    "            latest_attr = player_data.loc[player_data['date'].idxmax()]\n",
    "            player_attrs_list.append(latest_attr)\n",
    "\n",
    "    if player_attrs_list:\n",
    "        return pd.DataFrame(player_attrs_list)\n",
    "    else:\n",
    "        return pd.DataFrame()\n",
    "def aggregate_team_player_stats(team_players_attrs):\n",
    "    if team_players_attrs.empty:\n",
    "        return {}\n",
    "    key_attributes = [\n",
    "        'overall_rating', 'potential', 'crossing', 'finishing', 'heading_accuracy',\n",
    "        'short_passing', 'long_passing', 'ball_control', 'acceleration', 'sprint_speed',\n",
    "        'agility', 'shot_power', 'stamina', 'strength', 'aggression', 'interceptions',\n",
    "        'positioning', 'vision', 'marking', 'standing_tackle', 'sliding_tackle'\n",
    "    ]\n",
    "\n",
    "    aggregated_stats = {}\n",
    "    for attr in key_attributes:\n",
    "        if attr in team_players_attrs.columns and not team_players_attrs[attr].isna().all():\n",
    "            aggregated_stats[f'{attr}_mean'] = team_players_attrs[attr].mean()\n",
    "            aggregated_stats[f'{attr}_max'] = team_players_attrs[attr].max()\n",
    "            aggregated_stats[f'{attr}_min'] = team_players_attrs[attr].min()\n",
    "            aggregated_stats[f'{attr}_std'] = team_players_attrs[attr].std()\n",
    "    if 'preferred_foot' in team_players_attrs.columns:\n",
    "        foot_counts = team_players_attrs['preferred_foot'].value_counts()\n",
    "        aggregated_stats['right_foot_players'] = foot_counts.get('right', 0)\n",
    "        aggregated_stats['left_foot_players'] = foot_counts.get('left', 0)\n",
    "    if 'attacking_work_rate' in team_players_attrs.columns:\n",
    "        work_rate_counts = team_players_attrs['attacking_work_rate'].value_counts()\n",
    "        aggregated_stats['high_attack_work_rate'] = work_rate_counts.get('high', 0)\n",
    "        aggregated_stats['medium_attack_work_rate'] = work_rate_counts.get('medium', 0)\n",
    "        aggregated_stats['low_attack_work_rate'] = work_rate_counts.get('low', 0)\n",
    "    if 'defensive_work_rate' in team_players_attrs.columns:\n",
    "        def_work_rate_counts = team_players_attrs['defensive_work_rate'].value_counts()\n",
    "        aggregated_stats['high_defence_work_rate'] = def_work_rate_counts.get('high', 0)\n",
    "        aggregated_stats['medium_defence_work_rate'] = def_work_rate_counts.get('medium', 0)\n",
    "\n",
    "    return aggregated_stats"
   ],
   "id": "3e831cfd5880d306",
   "outputs": [],
   "execution_count": 9
  },
  {
   "metadata": {},
   "cell_type": "markdown",
   "source": "### A function to get the closest attributes of a team to the match date",
   "id": "bf16bde0e43a840f"
  },
  {
   "metadata": {
    "ExecuteTime": {
     "end_time": "2025-06-22T19:25:19.990954Z",
     "start_time": "2025-06-22T19:25:19.986034Z"
    }
   },
   "cell_type": "code",
   "source": [
    "def get_team_attributes_for_match(match_date, team_api_id, team_attributes):\n",
    "    team_attrs = team_attributes[team_attributes['team_api_id'] == team_api_id].copy()\n",
    "    if team_attrs.empty:\n",
    "        return pd.Series()\n",
    "\n",
    "    team_attrs['date'] = pd.to_datetime(team_attrs['date']) # date representation\n",
    "    match_date = pd.to_datetime(match_date)\n",
    "    valid_attrs = team_attrs[team_attrs['date'] <= match_date] # Находим ближайшие атрибуты до даты матча\n",
    "    if valid_attrs.empty:\n",
    "        return team_attrs.iloc[0]\n",
    "\n",
    "    return valid_attrs.loc[valid_attrs['date'].idxmax()]"
   ],
   "id": "fee530aba25afc3c",
   "outputs": [],
   "execution_count": 10
  },
  {
   "metadata": {},
   "cell_type": "markdown",
   "source": "### Creating a composite dataset",
   "id": "c9c41a73125d1b53"
  },
  {
   "metadata": {
    "jupyter": {
     "is_executing": true
    },
    "ExecuteTime": {
     "start_time": "2025-06-22T19:25:22.420098Z"
    }
   },
   "cell_type": "code",
   "source": [
    "def create_comprehensive_ml_dataset(matches_df, team_attributes, player_attributes):\n",
    "    # Base copy and light preprocessing\n",
    "    ml = matches_df.copy()\n",
    "    ml['season_encoded'] = ml['season'].str.replace('/', '').astype(int)\n",
    "    ml['stage'] = ml['stage'].fillna(0)\n",
    "\n",
    "    feature_rows = []\n",
    "    total = len(ml)\n",
    "    for idx, match in ml.iterrows():\n",
    "        if idx % 3000 == 0:\n",
    "            print(f\"Processed {idx} from {total}\")\n",
    "\n",
    "        # 1) Team features\n",
    "        home_attr = get_team_attributes_for_match(match['date'], match['home_team_api_id'], team_attributes)\n",
    "        away_attr = get_team_attributes_for_match(match['date'], match['away_team_api_id'], team_attributes)\n",
    "\n",
    "        # 2) Player features\n",
    "        home_players = get_match_players(match, 'home')\n",
    "        away_players = get_match_players(match, 'away')\n",
    "        home_player_stats = aggregate_team_player_stats(\n",
    "            get_players_attributes_for_match(home_players, match['date'], player_attributes)\n",
    "        )\n",
    "        away_player_stats = aggregate_team_player_stats(\n",
    "            get_players_attributes_for_match(away_players, match['date'], player_attributes)\n",
    "        )\n",
    "\n",
    "        # 3) Build one flat dict of all features for this match\n",
    "        row = {}\n",
    "        # team metrics\n",
    "        for col in [\n",
    "            'buildUpPlaySpeed','buildUpPlayPassing','chanceCreationPassing',\n",
    "            'chanceCreationCrossing','chanceCreationShooting','defencePressure',\n",
    "            'defenceAggression','defenceTeamWidth'\n",
    "        ]:\n",
    "            row[f'home_{col}'] = home_attr.get(col, np.nan)\n",
    "            row[f'away_{col}'] = away_attr.get(col, np.nan)\n",
    "        # player metrics (whatever keys appear)\n",
    "        for key, val in home_player_stats.items():\n",
    "            row[f'home_player_{key}'] = val\n",
    "        for key, val in away_player_stats.items():\n",
    "            row[f'away_player_{key}'] = val\n",
    "\n",
    "        feature_rows.append(row)\n",
    "\n",
    "    # 4) One‐shot DataFrame creation + concat\n",
    "    features_df = pd.DataFrame(feature_rows, index=ml.index)\n",
    "    comprehensive = pd.concat([ml, features_df], axis=1)\n",
    "\n",
    "    print(f\"Comprehensive dataset shape: {comprehensive.shape}\")\n",
    "    return comprehensive\n",
    "\n",
    "comprehensive_dataset = create_comprehensive_ml_dataset(\n",
    "    matches_enhanced, team_attributes, player_attributes\n",
    ")\n",
    "\n",
    "print(f\"A comprehensive dataset has been created: {comprehensive_dataset.shape}\")"
   ],
   "id": "6a193398d14bed0a",
   "outputs": [
    {
     "name": "stdout",
     "output_type": "stream",
     "text": [
      "Processed 0 from 25979\n",
      "Processed 3000 from 25979\n"
     ]
    }
   ],
   "execution_count": null
  },
  {
   "metadata": {},
   "cell_type": "markdown",
   "source": "### Analyze data in our new dataset by number of  NaN",
   "id": "c48b700f76b9498b"
  },
  {
   "metadata": {
    "ExecuteTime": {
     "end_time": "2025-06-16T23:34:12.520684Z",
     "start_time": "2025-06-16T23:34:11.823425Z"
    }
   },
   "cell_type": "code",
   "source": [
    "comprehensive_dataset['result'] = comprehensive_dataset.apply(create_match_result, axis=1)\n",
    "comprehensive_dataset['result_label'] = comprehensive_dataset['result'].map({1: 'home_win', 0: 'draw', -1: 'away_win'})\n",
    "\n",
    "rows_with_nan = comprehensive_dataset.isnull().any(axis=1).sum()\n",
    "total_rows = len(comprehensive_dataset)\n",
    "rows_without_nan = total_rows - rows_with_nan\n",
    "\n",
    "print(f\"Number of notes with NaN: {rows_with_nan}\")\n",
    "print(f\"Overall number of notes in dataset: {total_rows}\")\n",
    "\n",
    "def analyze_missing_data(df):\n",
    "    # Топ колонок с наибольшим количеством NaN\n",
    "    nan_by_column = df.isnull().sum().sort_values(ascending=False)\n",
    "    print(f\"\\nTop 50 lines by number of NaN:\")\n",
    "    print(nan_by_column.head(50))\n",
    "\n",
    "    rows_with_nan = df.isnull().any(axis=1).sum()\n",
    "    print(f\"\\nNumber of notes with at least one NaN: {rows_with_nan} из {len(df)}\")\n",
    "\n",
    "    complete_rows = len(df) - rows_with_nan\n",
    "    print(f\"Full notes: {complete_rows}\")\n",
    "\n",
    "analyze_missing_data(comprehensive_dataset)"
   ],
   "id": "589074d68b41a1ac",
   "outputs": [
    {
     "name": "stdout",
     "output_type": "stream",
     "text": [
      "Number of notes with NaN: 24217\n",
      "Overall number of notes in dataset: 25979\n",
      "\n",
      "Top 50 lines by number of NaN:\n",
      "PSH                14811\n",
      "PSD                14811\n",
      "PSA                14811\n",
      "BSH                11818\n",
      "BSA                11818\n",
      "BSD                11818\n",
      "GBH                11817\n",
      "GBA                11817\n",
      "GBD                11817\n",
      "card               11762\n",
      "shoton             11762\n",
      "corner             11762\n",
      "possession         11762\n",
      "cross              11762\n",
      "foulcommit         11762\n",
      "shotoff            11762\n",
      "goal               11762\n",
      "SJA                 8882\n",
      "SJH                 8882\n",
      "SJD                 8882\n",
      "IWA                 3459\n",
      "IWH                 3459\n",
      "IWD                 3459\n",
      "LBH                 3423\n",
      "LBD                 3423\n",
      "LBA                 3423\n",
      "VCA                 3411\n",
      "VCD                 3411\n",
      "VCH                 3411\n",
      "WHH                 3408\n",
      "WHA                 3408\n",
      "WHD                 3408\n",
      "BWA                 3404\n",
      "BWH                 3404\n",
      "BWD                 3404\n",
      "B365D               3387\n",
      "B365H               3387\n",
      "B365A               3387\n",
      "away_player_X11     1839\n",
      "away_player_Y11     1839\n",
      "away_player_Y10     1833\n",
      "away_player_Y9      1833\n",
      "away_player_X9      1833\n",
      "away_player_X10     1833\n",
      "home_player_Y5      1832\n",
      "home_player_X4      1832\n",
      "home_player_Y4      1832\n",
      "home_player_X7      1832\n",
      "away_player_Y6      1832\n",
      "away_player_Y5      1832\n",
      "dtype: int64\n",
      "\n",
      "Number of notes with at least one NaN: 24217 из 25979\n",
      "Full notes: 1762\n"
     ]
    }
   ],
   "execution_count": 203
  },
  {
   "metadata": {},
   "cell_type": "markdown",
   "source": "### Drop top N NaN columns",
   "id": "214c893f4502bfcb"
  },
  {
   "metadata": {
    "ExecuteTime": {
     "end_time": "2025-06-16T23:34:18.607719Z",
     "start_time": "2025-06-16T23:34:18.402032Z"
    }
   },
   "cell_type": "code",
   "source": [
    "def drop_top_n_nan_columns(df, n):\n",
    "    nan_counts = df.isnull().sum().sort_values(ascending=False)\n",
    "    top_nan_cols = nan_counts.head(n).index.tolist()\n",
    "    df_dropped = df.drop(columns=top_nan_cols) # drop tables\n",
    "    return df_dropped, top_nan_cols, nan_counts.head(n)\n",
    "\n",
    "dropped_df, dropped_cols, nan_stats = drop_top_n_nan_columns(comprehensive_dataset, n=35)\n",
    "\n",
    "print(\"Cleaning results\") # Results Analysing\n",
    "print(f\"Default size: {comprehensive_dataset.shape}\")\n",
    "print(f\"Size after cleaning: {dropped_df.shape}\")\n",
    "print(f\"Number of deleted tables: {len(dropped_cols)}\")\n",
    "\n",
    "total_nan_after = dropped_df.isnull().sum().sum() # NaN calculation\n",
    "rows_with_nan_after = dropped_df.isnull().any(axis=1).sum()\n",
    "complete_rows_after = len(dropped_df) - rows_with_nan_after\n",
    "\n",
    "print(f\"\\nCurrent number of NaN: {total_nan_after}\")\n",
    "print(f\"Number of notes with at least one NaN: {rows_with_nan_after} from {len(dropped_df)}\")\n",
    "print(f\"Full notes: {complete_rows_after} ({complete_rows_after/len(dropped_df)*100:.1f}%)\")\n",
    "print(f\"\\nTop - 10 deleted columns: {len(dropped_cols)}:\")\n",
    "print(nan_stats.head(10))\n",
    "\n",
    "analyze_missing_data(dropped_df)\n",
    "\n",
    "print(f\"Current number of columns: {len(dropped_df.columns.tolist())}\")"
   ],
   "id": "1a36835a21f3562b",
   "outputs": [
    {
     "name": "stdout",
     "output_type": "stream",
     "text": [
      "Cleaning results\n",
      "Default size: (25979, 331)\n",
      "Size after cleaning: (25979, 296)\n",
      "Number of deleted tables: 35\n",
      "\n",
      "Current number of NaN: 261445\n",
      "Number of notes with at least one NaN: 6376 from 25979\n",
      "Full notes: 19603 (75.5%)\n",
      "\n",
      "Top - 10 deleted columns: 35:\n",
      "PSH     14811\n",
      "PSD     14811\n",
      "PSA     14811\n",
      "BSH     11818\n",
      "BSA     11818\n",
      "BSD     11818\n",
      "GBH     11817\n",
      "GBA     11817\n",
      "GBD     11817\n",
      "card    11762\n",
      "dtype: int64\n",
      "\n",
      "Top 50 lines by number of NaN:\n",
      "B365H              3387\n",
      "B365D              3387\n",
      "B365A              3387\n",
      "away_player_Y11    1839\n",
      "away_player_X11    1839\n",
      "away_player_X10    1833\n",
      "away_player_X9     1833\n",
      "away_player_Y10    1833\n",
      "away_player_Y9     1833\n",
      "away_player_X3     1832\n",
      "away_player_X4     1832\n",
      "away_player_X6     1832\n",
      "away_player_X7     1832\n",
      "away_player_X8     1832\n",
      "away_player_X5     1832\n",
      "home_player_Y6     1832\n",
      "home_player_Y5     1832\n",
      "home_player_Y4     1832\n",
      "home_player_Y3     1832\n",
      "home_player_Y10    1832\n",
      "home_player_X7     1832\n",
      "away_player_Y5     1832\n",
      "away_player_Y4     1832\n",
      "away_player_Y3     1832\n",
      "away_player_Y2     1832\n",
      "away_player_Y1     1832\n",
      "home_player_Y11    1832\n",
      "home_player_Y8     1832\n",
      "home_player_Y9     1832\n",
      "home_player_Y7     1832\n",
      "away_player_X1     1832\n",
      "away_player_Y8     1832\n",
      "away_player_Y6     1832\n",
      "away_player_X2     1832\n",
      "home_player_X4     1832\n",
      "home_player_X5     1832\n",
      "home_player_X6     1832\n",
      "home_player_X3     1832\n",
      "away_player_Y7     1832\n",
      "home_player_X9     1832\n",
      "home_player_X10    1832\n",
      "home_player_X11    1832\n",
      "home_player_X8     1832\n",
      "home_player_Y1     1821\n",
      "home_player_X1     1821\n",
      "home_player_X2     1821\n",
      "home_player_Y2     1821\n",
      "home_player_11     1555\n",
      "away_player_11     1554\n",
      "away_player_10     1441\n",
      "dtype: int64\n",
      "\n",
      "Number of notes with at least one NaN: 6376 из 25979\n",
      "Full notes: 19603\n",
      "Current number of columns: 296\n"
     ]
    }
   ],
   "execution_count": 204
  },
  {
   "metadata": {},
   "cell_type": "markdown",
   "source": "### Checking for Key Features in dataset",
   "id": "c4b1548eccb52d0b"
  },
  {
   "metadata": {
    "ExecuteTime": {
     "end_time": "2025-06-16T23:34:25.282169Z",
     "start_time": "2025-06-16T23:34:25.261026Z"
    }
   },
   "cell_type": "code",
   "source": [
    "base_features = ['stage', 'season_encoded', 'result_label']\n",
    "team_feature_columns = [\n",
    "    'home_buildUpPlaySpeed', 'home_buildUpPlayPassing', 'home_chanceCreationPassing',\n",
    "    'home_chanceCreationCrossing', 'home_chanceCreationShooting', 'home_defencePressure',\n",
    "    'home_defenceAggression', 'home_defenceTeamWidth',\n",
    "    'away_buildUpPlaySpeed', 'away_buildUpPlayPassing', 'away_chanceCreationPassing',\n",
    "    'away_chanceCreationCrossing', 'away_chanceCreationShooting', 'away_defencePressure',\n",
    "    'away_defenceAggression', 'away_defenceTeamWidth'\n",
    "]\n",
    "betting_features = ['B365H', 'B365D', 'B365A']\n",
    "key_player_stats = [\n",
    "    'overall_rating_mean', 'overall_rating_max', 'potential_mean',\n",
    "    'finishing_mean', 'short_passing_mean', 'long_passing_mean',\n",
    "    'ball_control_mean', 'acceleration_mean', 'sprint_speed_mean',\n",
    "    'shot_power_mean', 'stamina_mean', 'strength_mean',\n",
    "    'aggression_mean', 'positioning_mean', 'vision_mean',\n",
    "    'marking_mean', 'standing_tackle_mean',\n",
    "    'right_foot_players', 'left_foot_players'\n",
    "]\n",
    "player_features = []\n",
    "for stat in key_player_stats:\n",
    "    player_features.extend([f'home_player_{stat}', f'away_player_{stat}'])\n",
    "\n",
    "all_features = base_features + team_feature_columns + betting_features + player_features\n",
    "# all_features = [\n",
    "#     'stage', 'season_encoded',\n",
    "#     'home_buildUpPlaySpeed', 'home_buildUpPlayPassing', 'home_chanceCreationPassing',\n",
    "#     'home_chanceCreationCrossing', 'home_chanceCreationShooting', 'home_defencePressure',\n",
    "#     'home_defenceAggression', 'home_defenceTeamWidth',\n",
    "#     'away_buildUpPlaySpeed', 'away_buildUpPlayPassing', 'away_chanceCreationPassing',\n",
    "#     'away_chanceCreationCrossing', 'away_chanceCreationShooting', 'away_defencePressure',\n",
    "#     'away_defenceAggression', 'away_defenceTeamWidth', 'result_label','B365H', 'B365D', 'B365A'\n",
    "# ]\n",
    "available_features = [f for f in all_features if f in dropped_df]\n",
    "missing_features = [f for f in all_features if f not in dropped_df]\n",
    "\n",
    "print(f\"Total requested attributes: {len(all_features)}\")\n",
    "print(f\"Available features: {len(available_features)}\")\n",
    "print(f\"Missing features: {len(missing_features)}\")\n",
    "\n",
    "if missing_features:\n",
    "    print(f\"Top 10 missing features: {missing_features[:10]}\")"
   ],
   "id": "f81339027703c040",
   "outputs": [
    {
     "name": "stdout",
     "output_type": "stream",
     "text": [
      "Total requested attributes: 60\n",
      "Available features: 60\n",
      "Missing features: 0\n"
     ]
    }
   ],
   "execution_count": 205
  },
  {
   "metadata": {},
   "cell_type": "markdown",
   "source": "### Exploratory Data Analysis (EDA) and Preprocessing",
   "id": "13a52e2691003658"
  },
  {
   "metadata": {
    "ExecuteTime": {
     "end_time": "2025-06-22T19:23:43.558486Z",
     "start_time": "2025-06-22T19:23:43.438283Z"
    }
   },
   "cell_type": "code",
   "source": [
    "X = dropped_df[all_features].dropna().reset_index(drop=True)\n",
    "y = X['result_label'].map({'home_win': 0, 'away_win': 1, 'draw': 2}).values\n",
    "X = X.drop(columns=['result_label']).values\n",
    "\n",
    "X_train, X_temp, y_train, y_temp = train_test_split(X, y, train_size=0.7, stratify=y, random_state=91)\n",
    "X_val, X_test, y_val, y_test = train_test_split(X_temp, y_temp, test_size=0.5, stratify=y_temp, random_state=91)\n",
    "\n",
    "scaler = StandardScaler()\n",
    "X_train_scaled = scaler.fit_transform(X_train)\n",
    "X_val_scaled = scaler.transform(X_val)\n",
    "X_test_scaled = scaler.transform(X_test)"
   ],
   "id": "f7670c28d1ca730f",
   "outputs": [
    {
     "ename": "NameError",
     "evalue": "name 'dropped_df' is not defined",
     "output_type": "error",
     "traceback": [
      "\u001B[31m---------------------------------------------------------------------------\u001B[39m",
      "\u001B[31mNameError\u001B[39m                                 Traceback (most recent call last)",
      "\u001B[36mCell\u001B[39m\u001B[36m \u001B[39m\u001B[32mIn[3]\u001B[39m\u001B[32m, line 1\u001B[39m\n\u001B[32m----> \u001B[39m\u001B[32m1\u001B[39m X = \u001B[43mdropped_df\u001B[49m[all_features].dropna().reset_index(drop=\u001B[38;5;28;01mTrue\u001B[39;00m)\n\u001B[32m      2\u001B[39m y = X[\u001B[33m'\u001B[39m\u001B[33mresult_label\u001B[39m\u001B[33m'\u001B[39m].map({\u001B[33m'\u001B[39m\u001B[33mhome_win\u001B[39m\u001B[33m'\u001B[39m: \u001B[32m0\u001B[39m, \u001B[33m'\u001B[39m\u001B[33maway_win\u001B[39m\u001B[33m'\u001B[39m: \u001B[32m1\u001B[39m, \u001B[33m'\u001B[39m\u001B[33mdraw\u001B[39m\u001B[33m'\u001B[39m: \u001B[32m2\u001B[39m}).values\n\u001B[32m      3\u001B[39m X = X.drop(columns=[\u001B[33m'\u001B[39m\u001B[33mresult_label\u001B[39m\u001B[33m'\u001B[39m]).values\n",
      "\u001B[31mNameError\u001B[39m: name 'dropped_df' is not defined"
     ]
    }
   ],
   "execution_count": 3
  },
  {
   "metadata": {},
   "cell_type": "markdown",
   "source": "### Baseline MLP (Fully-Connected Network)",
   "id": "67f2f5f7a8925940"
  },
  {
   "metadata": {
    "ExecuteTime": {
     "end_time": "2025-06-17T00:18:22.096426Z",
     "start_time": "2025-06-17T00:18:10.230249Z"
    }
   },
   "cell_type": "code",
   "source": [
    "device = torch.device(\"cuda\" if torch.cuda.is_available() else \"cpu\")\n",
    "\n",
    "# Convert data to PyTorch tensors\n",
    "X_train_tensor = torch.FloatTensor(X_train_scaled)\n",
    "y_train_tensor = torch.LongTensor(y_train)\n",
    "X_val_tensor = torch.FloatTensor(X_val_scaled)\n",
    "y_val_tensor = torch.LongTensor(y_val)\n",
    "X_test_tensor = torch.FloatTensor(X_test_scaled)\n",
    "y_test_tensor = torch.LongTensor(y_test)\n",
    "\n",
    "# Create DataLoader for batches\n",
    "class_counts = np.bincount(y_train)\n",
    "sample_weights = 1.0 / class_counts[y_train]\n",
    "sampler = WeightedRandomSampler(sample_weights, len(sample_weights), replacement=True)\n",
    "train_dataset = TensorDataset(X_train_tensor, y_train_tensor)\n",
    "train_loader = DataLoader(train_dataset, batch_size=64, sampler=sampler)\n",
    "\n",
    "# MLP architecture\n",
    "class MLPClassifier(nn.Module):\n",
    "    def __init__(self, input_size, hidden_size, num_classes):\n",
    "        super().__init__()\n",
    "        self.model = nn.Sequential(\n",
    "            nn.Linear(input_size, hidden_size),\n",
    "            nn.BatchNorm1d(hidden_size),\n",
    "            nn.ReLU(),\n",
    "            nn.Dropout(0.5),\n",
    "            nn.Linear(hidden_size, hidden_size // 2),\n",
    "            nn.BatchNorm1d(hidden_size // 2),\n",
    "            nn.ReLU(),\n",
    "            nn.Dropout(0.3),\n",
    "            nn.Linear(hidden_size // 2, num_classes)\n",
    "        )\n",
    "\n",
    "    def forward(self, x):\n",
    "        return self.model(x)\n",
    "\n",
    "input_size = X_train.shape[1]\n",
    "hidden_size = 32\n",
    "num_classes = 3\n",
    "learning_rate = 5e-4\n",
    "num_epochs = 100\n",
    "\n",
    "model = MLPClassifier(input_size, hidden_size, num_classes).to(device)\n",
    "\n",
    "# Loss and optimizor\n",
    "class_weights = torch.tensor(len(y_train) / (3 * class_counts), dtype=torch.float32).to(device)\n",
    "criterion = nn.CrossEntropyLoss(weight=class_weights)\n",
    "optimizer = torch.optim.AdamW(model.parameters(), lr=learning_rate, weight_decay=1e-4)\n",
    "\n",
    "# Early stopping\n",
    "best_val_loss = float('inf')\n",
    "early_stopping_counter = 0\n",
    "patience = 10\n",
    "\n",
    "train_losses, val_losses, train_accs, val_accs = [], [], [], []\n",
    "\n",
    "for epoch in range(num_epochs):\n",
    "    model.train()\n",
    "    total_loss, correct, total = 0.0, 0, 0\n",
    "\n",
    "    for X_batch, y_batch in train_loader:\n",
    "        X_batch, y_batch = X_batch.to(device), y_batch.to(device)\n",
    "        optimizer.zero_grad()\n",
    "        outputs = model(X_batch)\n",
    "        loss = criterion(outputs, y_batch)\n",
    "        loss.backward()\n",
    "        optimizer.step()\n",
    "\n",
    "        total_loss += loss.item() * y_batch.size(0)\n",
    "        correct += (outputs.argmax(1) == y_batch).sum().item()\n",
    "        total += y_batch.size(0)\n",
    "\n",
    "    train_losses.append(total_loss / total)\n",
    "    train_accs.append(correct / total)\n",
    "\n",
    "    # Validation\n",
    "    model.eval()\n",
    "    with torch.no_grad():\n",
    "        val_outputs = model(X_val_tensor.to(device))\n",
    "        val_loss = criterion(val_outputs, y_val_tensor.to(device)).item()\n",
    "        val_preds = val_outputs.argmax(1)\n",
    "        val_acc = (val_preds == y_val_tensor.to(device)).float().mean().item()\n",
    "\n",
    "    val_losses.append(val_loss)\n",
    "    val_accs.append(val_acc)\n",
    "\n",
    "    print(f\"Epoch {epoch+1}: Train Loss={train_losses[-1]:.4f}, Acc={train_accs[-1]:.4f} | Val Loss={val_loss:.4f}, Acc={val_acc:.4f}\")\n",
    "\n",
    "    # Early stopping\n",
    "    if val_loss < best_val_loss:\n",
    "        best_val_loss = val_loss\n",
    "        torch.save(model.state_dict(), \"best_model.pt\")\n",
    "        early_stopping_counter = 0\n",
    "    else:\n",
    "        early_stopping_counter += 1\n",
    "        if early_stopping_counter >= patience:\n",
    "            print(\"Early stopping triggered.\")\n",
    "            break\n",
    "\n",
    "# Uploading the best model\n",
    "model.load_state_dict(torch.load(\"best_model.pt\"))\n",
    "model.eval()\n",
    "\n",
    "# Test\n",
    "with torch.no_grad():\n",
    "    test_preds = model(X_test_tensor.to(device)).argmax(1).cpu().numpy()\n",
    "\n",
    "print(\"\\nClassification Report:\")\n",
    "print(classification_report(y_test, test_preds, target_names=['home_win', 'away_win', 'draw']))\n",
    "\n",
    "cm = confusion_matrix(y_test, test_preds, labels=[0, 1, 2])\n",
    "disp = ConfusionMatrixDisplay(confusion_matrix=cm, display_labels=['home_win', 'away_win', 'draw'])\n",
    "fig, ax = plt.subplots(figsize=(6, 6))\n",
    "disp.plot(ax=ax, cmap=\"autumn\", colorbar=True)\n",
    "plt.title(\"Confusion Matrix\")\n",
    "plt.xticks(rotation=45)\n",
    "plt.tight_layout()\n",
    "plt.show()"
   ],
   "id": "244e173cd49ac88b",
   "outputs": [
    {
     "name": "stdout",
     "output_type": "stream",
     "text": [
      "Epoch 1: Train Loss=1.0811, Acc=0.3656 | Val Loss=1.0635, Acc=0.3801\n",
      "Epoch 2: Train Loss=1.0453, Acc=0.3881 | Val Loss=1.0475, Acc=0.4182\n",
      "Epoch 3: Train Loss=1.0275, Acc=0.4150 | Val Loss=1.0385, Acc=0.4176\n",
      "Epoch 4: Train Loss=1.0296, Acc=0.4099 | Val Loss=1.0417, Acc=0.4039\n",
      "Epoch 5: Train Loss=1.0221, Acc=0.4129 | Val Loss=1.0386, Acc=0.3999\n",
      "Epoch 6: Train Loss=1.0190, Acc=0.4196 | Val Loss=1.0367, Acc=0.4133\n",
      "Epoch 7: Train Loss=1.0132, Acc=0.4268 | Val Loss=1.0355, Acc=0.4176\n",
      "Epoch 8: Train Loss=1.0101, Acc=0.4332 | Val Loss=1.0385, Acc=0.4036\n",
      "Epoch 9: Train Loss=1.0134, Acc=0.4274 | Val Loss=1.0385, Acc=0.4024\n",
      "Epoch 10: Train Loss=1.0128, Acc=0.4253 | Val Loss=1.0375, Acc=0.3945\n",
      "Epoch 11: Train Loss=1.0126, Acc=0.4231 | Val Loss=1.0360, Acc=0.4018\n",
      "Epoch 12: Train Loss=1.0064, Acc=0.4278 | Val Loss=1.0398, Acc=0.4009\n",
      "Epoch 13: Train Loss=1.0091, Acc=0.4341 | Val Loss=1.0356, Acc=0.4002\n",
      "Epoch 14: Train Loss=1.0098, Acc=0.4298 | Val Loss=1.0400, Acc=0.3981\n",
      "Epoch 15: Train Loss=1.0072, Acc=0.4312 | Val Loss=1.0361, Acc=0.4051\n",
      "Epoch 16: Train Loss=1.0049, Acc=0.4364 | Val Loss=1.0355, Acc=0.4005\n",
      "Epoch 17: Train Loss=1.0097, Acc=0.4306 | Val Loss=1.0456, Acc=0.3896\n",
      "Early stopping triggered.\n",
      "\n",
      "Classification Report:\n",
      "              precision    recall  f1-score   support\n",
      "\n",
      "    home_win       0.78      0.23      0.36      1506\n",
      "    away_win       0.49      0.54      0.51       947\n",
      "        draw       0.28      0.59      0.38       831\n",
      "\n",
      "    accuracy                           0.41      3284\n",
      "   macro avg       0.51      0.46      0.42      3284\n",
      "weighted avg       0.57      0.41      0.41      3284\n",
      "\n"
     ]
    },
    {
     "data": {
      "text/plain": [
       "<Figure size 600x600 with 2 Axes>"
      ],
      "image/png": "[encoded data removed]"
     },
     "metadata": {},
     "output_type": "display_data"
    }
   ],
   "execution_count": 233
  },
  {
   "metadata": {},
   "cell_type": "markdown",
   "source": "### Logistic Regression",
   "id": "79ef93dcf1864573"
  },
  {
   "metadata": {
    "ExecuteTime": {
     "end_time": "2025-06-17T00:19:42.002788Z",
     "start_time": "2025-06-17T00:19:36.418704Z"
    }
   },
   "cell_type": "code",
   "source": [
    "Sclass_counts = np.bincount(y_train)\n",
    "class_weights = {i: len(y_train) / (3 * c) for i, c in enumerate(class_counts)}\n",
    "\n",
    "param_grid = {\n",
    "    'C': [0.01, 0.1, 1, 10, 100],\n",
    "    'solver': ['lbfgs', 'saga'],\n",
    "}\n",
    "\n",
    "logreg = LogisticRegression(\n",
    "    class_weight=class_weights,\n",
    "    max_iter=1000,\n",
    "    random_state=91\n",
    ")\n",
    "\n",
    "grid_search = GridSearchCV(logreg, param_grid, cv=8, scoring='f1_macro', n_jobs=-1, verbose=1)\n",
    "grid_search.fit(X_train_scaled, y_train)\n",
    "best_clf = grid_search.best_estimator_\n",
    "print(\"Best Params:\", grid_search.best_params_)\n",
    "\n",
    "# Test\n",
    "val_preds = best_clf.predict(X_val_scaled)\n",
    "test_preds = best_clf.predict(X_test_scaled)\n",
    "\n",
    "print(\"Validation Classification Report:\")\n",
    "print(classification_report(y_val, val_preds, target_names=['home_win', 'away_win', 'draw']))\n",
    "print(\"\\nTest Classification Report:\")\n",
    "print(classification_report(y_test, test_preds, target_names=['home_win', 'away_win', 'draw']))\n",
    "\n",
    "# Confusion matrix\n",
    "cm = confusion_matrix(y_test, test_preds, labels=[0, 1, 2])\n",
    "fig, ax = plt.subplots(figsize=(6, 6))\n",
    "disp = ConfusionMatrixDisplay(confusion_matrix=cm, display_labels=['home_win', 'away_win', 'draw'])\n",
    "disp.plot(ax=ax, cmap=\"autumn\", colorbar=True)\n",
    "plt.title(\"Confusion Matrix\")\n",
    "plt.xticks(rotation=45)\n",
    "plt.tight_layout()\n",
    "plt.show()"
   ],
   "id": "d022e0e66281cd94",
   "outputs": [
    {
     "name": "stdout",
     "output_type": "stream",
     "text": [
      "Fitting 8 folds for each of 10 candidates, totalling 80 fits\n",
      "Best Params: {'C': 0.01, 'solver': 'lbfgs'}\n",
      "Validation Classification Report:\n",
      "              precision    recall  f1-score   support\n",
      "\n",
      "    home_win       0.63      0.54      0.58      1506\n",
      "    away_win       0.47      0.55      0.51       947\n",
      "        draw       0.29      0.31      0.30       830\n",
      "\n",
      "    accuracy                           0.49      3283\n",
      "   macro avg       0.46      0.47      0.46      3283\n",
      "weighted avg       0.50      0.49      0.49      3283\n",
      "\n",
      "\n",
      "Test Classification Report:\n",
      "              precision    recall  f1-score   support\n",
      "\n",
      "    home_win       0.64      0.51      0.57      1506\n",
      "    away_win       0.49      0.56      0.52       947\n",
      "        draw       0.30      0.36      0.33       831\n",
      "\n",
      "    accuracy                           0.49      3284\n",
      "   macro avg       0.48      0.48      0.47      3284\n",
      "weighted avg       0.51      0.49      0.50      3284\n",
      "\n"
     ]
    },
    {
     "data": {
      "text/plain": [
       "<Figure size 600x600 with 2 Axes>"
      ],
      "image/png": "[encoded data removed]"
     },
     "metadata": {},
     "output_type": "display_data"
    }
   ],
   "execution_count": 235
  },
  {
   "metadata": {},
   "cell_type": "markdown",
   "source": "### Upload data to .csv",
   "id": "259e944cf0c83b60"
  },
  {
   "metadata": {
    "ExecuteTime": {
     "end_time": "2025-06-17T00:10:01.966855Z",
     "start_time": "2025-06-17T00:09:50.845677Z"
    }
   },
   "cell_type": "code",
   "source": "comprehensive_dataset.to_csv(\"comprehensive_dataset.csv\")",
   "id": "9857204612cbb1b1",
   "outputs": [],
   "execution_count": 229
  },
  {
   "metadata": {
    "ExecuteTime": {
     "end_time": "2025-06-22T19:22:58.987119Z",
     "start_time": "2025-06-22T19:22:54.548702Z"
    }
   },
   "cell_type": "code",
   "source": [
    "import joblib\n",
    "import json\n",
    "\n",
    "# Saving the best Logistic Regression model\n",
    "joblib.dump(best_clf, 'best_logistic_model.pkl')\n",
    "\n",
    "# Saving of scaler\n",
    "joblib.dump(scaler, 'scaler.pkl')\n",
    "\n",
    "# Saving of features\n",
    "feature_list = [f for f in available_features if f != 'result_label']\n",
    "with open('features.json', 'w') as f:\n",
    "    json.dump(feature_list, f)\n",
    "\n",
    "# Saving of class mapping\n",
    "class_mapping = {'home_win': 0, 'away_win': 1, 'draw': 2}\n",
    "with open('class_mapping.json', 'w') as f:\n",
    "    json.dump(class_mapping, f)\n",
    "\n",
    "print(\"Models saved:\")\n",
    "print(\"- best_logistic_model.pkl\")\n",
    "print(\"- scaler.pkl\")\n",
    "print(\"- features.json\")\n",
    "print(\"- class_mapping.json\")"
   ],
   "id": "8d265b4e4e03556e",
   "outputs": [
    {
     "ename": "NameError",
     "evalue": "name 'model' is not defined",
     "output_type": "error",
     "traceback": [
      "\u001B[31m---------------------------------------------------------------------------\u001B[39m",
      "\u001B[31mNameError\u001B[39m                                 Traceback (most recent call last)",
      "\u001B[36mCell\u001B[39m\u001B[36m \u001B[39m\u001B[32mIn[1]\u001B[39m\u001B[32m, line 6\u001B[39m\n\u001B[32m      3\u001B[39m \u001B[38;5;28;01mimport\u001B[39;00m\u001B[38;5;250m \u001B[39m\u001B[34;01mjson\u001B[39;00m\n\u001B[32m      5\u001B[39m \u001B[38;5;66;03m# 1. Сохранение PyTorch модели\u001B[39;00m\n\u001B[32m----> \u001B[39m\u001B[32m6\u001B[39m torch.save(\u001B[43mmodel\u001B[49m.state_dict(), \u001B[33m'\u001B[39m\u001B[33mbest_model.pt\u001B[39m\u001B[33m'\u001B[39m)\n\u001B[32m      8\u001B[39m \u001B[38;5;66;03m# 2. Сохранение scaler\u001B[39;00m\n\u001B[32m      9\u001B[39m \u001B[38;5;28;01mwith\u001B[39;00m \u001B[38;5;28mopen\u001B[39m(\u001B[33m'\u001B[39m\u001B[33mscaler.pkl\u001B[39m\u001B[33m'\u001B[39m, \u001B[33m'\u001B[39m\u001B[33mwb\u001B[39m\u001B[33m'\u001B[39m) \u001B[38;5;28;01mas\u001B[39;00m f:\n",
      "\u001B[31mNameError\u001B[39m: name 'model' is not defined"
     ]
    }
   ],
   "execution_count": 1
  }
 ],
 "metadata": {
  "kernelspec": {
   "display_name": "Python 3",
   "language": "python",
   "name": "python3"
  },
  "language_info": {
   "codemirror_mode": {
    "name": "ipython",
    "version": 2
   },
   "file_extension": ".py",
   "mimetype": "text/x-python",
   "name": "python",
   "nbconvert_exporter": "python",
   "pygments_lexer": "ipython2",
   "version": "2.7.6"
  }
 },
 "nbformat": 4,
 "nbformat_minor": 5
}
