{
 "cells": [
  {
   "metadata": {},
   "cell_type": "markdown",
   "source": [
    "# Machine Learning Pipeline for Soccer Match Prediction\n",
    "\n",
    "This notebook implements a comprehensive machine learning pipeline for predicting soccer match outcomes using the European Soccer Database. The pipeline includes data extraction, feature engineering, preprocessing, and training of both Logistic Regression and MLP models.\n",
    "\n",
    "### Key Features:\n",
    "- Data integration from multiple database tables\n",
    "- Feature engineering with team and player attributes\n",
    "- Temporal weighting for recent performance emphasis\n",
    "- Advanced preprocessing with PCA dimensionality reduction\n",
    "- Model comparison between Logistic Regression and Neural Networks\n",
    "- Performance evaluation with cross-validation and confusion matrices\n",
    "\n",
    "### Models Trained:\n",
    "1. **Logistic Regression** - Linear classification model\n",
    "2. **Multi-Layer Perceptron (MLP)** - Neural network classifier\n",
    "\n",
    "### Dataset:\n",
    "[European Soccer Database containing match results, team attributes, and player statistics](https://www.kaggle.com/datasets/hugomathien/soccer?resource=download)"
   ],
   "id": "af49bbe8b9b467df"
  },
  {
   "metadata": {},
   "cell_type": "markdown",
   "source": [
    "### 1. Library Imports and Dependencies\n",
    "Setting up the required libraries for data processing, machine learning, model evaluation, and visualization.\n",
    "\n",
    "**Key libraries:**\n",
    "- **pandas, numpy**: Data manipulation and numerical operations\n",
    "- **sklearn**: Machine learning algorithms and preprocessing\n",
    "- **matplotlib**: Data visualization\n",
    "- **sqlite3**: Database connectivity\n",
    "- **pickle, json**: Model serialization and data persistence"
   ],
   "id": "2f8fc1d499de8d72"
  },
  {
   "metadata": {
    "ExecuteTime": {
     "end_time": "2025-07-20T09:55:07.850563Z",
     "start_time": "2025-07-20T09:55:07.845536Z"
    }
   },
   "cell_type": "code",
   "source": [
    "import pandas as pd\n",
    "import _sqlite3 as db\n",
    "import numpy as np\n",
    "import matplotlib.pyplot as plt\n",
    "from sklearn.neural_network import MLPClassifier\n",
    "from sklearn.preprocessing import StandardScaler\n",
    "from sklearn.model_selection import cross_val_score, StratifiedKFold, train_test_split\n",
    "from sklearn.model_selection import GridSearchCV\n",
    "from sklearn.linear_model import LogisticRegression\n",
    "from sklearn.utils.class_weight import compute_class_weight\n",
    "from sklearn.model_selection import StratifiedKFold, cross_val_score\n",
    "import pickle, json\n",
    "from sklearn.metrics import classification_report, confusion_matrix, ConfusionMatrixDisplay\n",
    "from sklearn.metrics import classification_report, confusion_matrix, accuracy_score\n",
    "from sklearn.decomposition import PCA\n",
    "from sklearn.pipeline import Pipeline\n",
    "from sklearn.ensemble import VotingClassifier, StackingClassifier, RandomForestClassifier\n",
    "from sklearn.svm import SVC\n",
    "from sklearn.naive_bayes import GaussianNB\n",
    "import xgboost as xgb\n",
    "import numpy as np"
   ],
   "id": "d15f6bf91dce061e",
   "outputs": [],
   "execution_count": 2
  },
  {
   "metadata": {},
   "cell_type": "markdown",
   "source": [
    "### 2. Database Connection and Data Extraction\n",
    "Connecting to the European Soccer Database and extracting table information to understand the available data structure.\n",
    "\n",
    "**Database tables:**\n",
    "- **Match**: Game results and statistics\n",
    "- **Team**: Team information\n",
    "- **Player**: Player profiles\n",
    "- **Team_Attributes**: Team tactical attributes\n",
    "- **Player_Attributes**: Player skill ratings"
   ],
   "id": "f35a5e94eae80330"
  },
  {
   "metadata": {
    "ExecuteTime": {
     "end_time": "2025-07-20T09:54:54.819618Z",
     "start_time": "2025-07-20T09:54:54.502450Z"
    }
   },
   "cell_type": "code",
   "source": [
    "# function for tables extraction\n",
    "def extract_tables(cursor):\n",
    "    for row in cursor.execute(\"SELECT name FROM sqlite_master WHERE type='table';\"):\n",
    "        print(row)\n",
    "\n",
    "# Extraction tables from European Soccer Database (https://www.kaggle.com/datasets/hugomathien/soccer?resource=download)\n",
    "con_euro = db.connect('Data/EuroSoccer.sqlite')\n",
    "cursor = con_euro.cursor()\n",
    "\n",
    "print(\"Tables from European Soccer Database:\\n\")\n",
    "extract_tables(cursor)\n",
    "print('\\n')\n",
    "\n",
    "with open('../notebooks/embeddings_data.pkl', 'rb') as f:\n",
    "    embeddings_data = pickle.load(f)\n",
    "\n",
    "print(f\"Downloaded embeddings for {len(embeddings_data['player_id_to_idx'])} players\")"
   ],
   "id": "7863ce65faf48e21",
   "outputs": [
    {
     "ename": "NameError",
     "evalue": "name 'db' is not defined",
     "output_type": "error",
     "traceback": [
      "\u001B[31m---------------------------------------------------------------------------\u001B[39m",
      "\u001B[31mNameError\u001B[39m                                 Traceback (most recent call last)",
      "\u001B[36mCell\u001B[39m\u001B[36m \u001B[39m\u001B[32mIn[1]\u001B[39m\u001B[32m, line 7\u001B[39m\n\u001B[32m      4\u001B[39m         \u001B[38;5;28mprint\u001B[39m(row)\n\u001B[32m      6\u001B[39m \u001B[38;5;66;03m# Extraction tables from European Soccer Database (https://www.kaggle.com/datasets/hugomathien/soccer?resource=download)\u001B[39;00m\n\u001B[32m----> \u001B[39m\u001B[32m7\u001B[39m con_euro = \u001B[43mdb\u001B[49m.connect(\u001B[33m'\u001B[39m\u001B[33mData/EuroSoccer.sqlite\u001B[39m\u001B[33m'\u001B[39m)\n\u001B[32m      8\u001B[39m cursor = con_euro.cursor()\n\u001B[32m     10\u001B[39m \u001B[38;5;28mprint\u001B[39m(\u001B[33m\"\u001B[39m\u001B[33mTables from European Soccer Database:\u001B[39m\u001B[38;5;130;01m\\n\u001B[39;00m\u001B[33m\"\u001B[39m)\n",
      "\u001B[31mNameError\u001B[39m: name 'db' is not defined"
     ]
    }
   ],
   "execution_count": 1
  },
  {
   "metadata": {},
   "cell_type": "markdown",
   "source": [
    "### 3. Data Loading and Table Integration\n",
    "Loading all relevant tables from the database and examining their structure. This step also loads pre-computed player embeddings for enhanced feature representation.\n",
    "\n",
    "**Key datasets loaded:**\n",
    "- Match results and statistics\n",
    "- Team and player information\n",
    "- Tactical attributes for teams\n",
    "- Player skill ratings and embeddings"
   ],
   "id": "eb127877fb45c309"
  },
  {
   "metadata": {
    "ExecuteTime": {
     "end_time": "2025-07-15T13:56:03.834138Z",
     "start_time": "2025-07-15T13:55:56.567373Z"
    }
   },
   "cell_type": "code",
   "source": [
    "# Extraction data from Euro Soccer\n",
    "match_table = pd.read_sql_query(\"SELECT * FROM Match;\", con_euro)\n",
    "team_table = pd.read_sql_query(\"SELECT * FROM Team;\", con_euro)\n",
    "team_attributes = pd.read_sql_query(\"SELECT * FROM Team_Attributes;\", con_euro)\n",
    "country_table = pd.read_sql_query(\"SELECT * FROM Country;\", con_euro)\n",
    "players = pd.read_sql_query(\"SELECT * FROM Player;\", con_euro)\n",
    "player_attributes = pd.read_sql_query(\"SELECT * FROM Player_Attributes;\", con_euro)\n",
    "leagues_table = pd.read_sql_query(\"SELECT * FROM League;\", con_euro)\n",
    "\n",
    "# Look up of all data\n",
    "print(f\"match_table: {match_table.columns.tolist()}\\n\")\n",
    "print(f\"team_table: {team_table.columns.tolist()}\\n\")\n",
    "print(f\"team_attributes: {team_attributes.columns.tolist()}\\n\")\n",
    "print(f\"country_table: {country_table.columns.tolist()}\\n\")\n",
    "print(f\"players: {players.columns.tolist()}\\n\")\n",
    "print(f\"player_attributes: {player_attributes.columns.tolist()}\\n\")\n",
    "print(f\"leagues: {leagues_table.columns.tolist()}\\n\")"
   ],
   "id": "b1d90ade87b4d579",
   "outputs": [
    {
     "name": "stdout",
     "output_type": "stream",
     "text": [
      "match_table: ['id', 'country_id', 'league_id', 'season', 'stage', 'date', 'match_api_id', 'home_team_api_id', 'away_team_api_id', 'home_team_goal', 'away_team_goal', 'home_player_X1', 'home_player_X2', 'home_player_X3', 'home_player_X4', 'home_player_X5', 'home_player_X6', 'home_player_X7', 'home_player_X8', 'home_player_X9', 'home_player_X10', 'home_player_X11', 'away_player_X1', 'away_player_X2', 'away_player_X3', 'away_player_X4', 'away_player_X5', 'away_player_X6', 'away_player_X7', 'away_player_X8', 'away_player_X9', 'away_player_X10', 'away_player_X11', 'home_player_Y1', 'home_player_Y2', 'home_player_Y3', 'home_player_Y4', 'home_player_Y5', 'home_player_Y6', 'home_player_Y7', 'home_player_Y8', 'home_player_Y9', 'home_player_Y10', 'home_player_Y11', 'away_player_Y1', 'away_player_Y2', 'away_player_Y3', 'away_player_Y4', 'away_player_Y5', 'away_player_Y6', 'away_player_Y7', 'away_player_Y8', 'away_player_Y9', 'away_player_Y10', 'away_player_Y11', 'home_player_1', 'home_player_2', 'home_player_3', 'home_player_4', 'home_player_5', 'home_player_6', 'home_player_7', 'home_player_8', 'home_player_9', 'home_player_10', 'home_player_11', 'away_player_1', 'away_player_2', 'away_player_3', 'away_player_4', 'away_player_5', 'away_player_6', 'away_player_7', 'away_player_8', 'away_player_9', 'away_player_10', 'away_player_11', 'goal', 'shoton', 'shotoff', 'foulcommit', 'card', 'cross', 'corner', 'possession', 'B365H', 'B365D', 'B365A', 'BWH', 'BWD', 'BWA', 'IWH', 'IWD', 'IWA', 'LBH', 'LBD', 'LBA', 'PSH', 'PSD', 'PSA', 'WHH', 'WHD', 'WHA', 'SJH', 'SJD', 'SJA', 'VCH', 'VCD', 'VCA', 'GBH', 'GBD', 'GBA', 'BSH', 'BSD', 'BSA']\n",
      "\n",
      "team_table: ['id', 'team_api_id', 'team_fifa_api_id', 'team_long_name', 'team_short_name']\n",
      "\n",
      "team_attributes: ['id', 'team_fifa_api_id', 'team_api_id', 'date', 'buildUpPlaySpeed', 'buildUpPlaySpeedClass', 'buildUpPlayDribbling', 'buildUpPlayDribblingClass', 'buildUpPlayPassing', 'buildUpPlayPassingClass', 'buildUpPlayPositioningClass', 'chanceCreationPassing', 'chanceCreationPassingClass', 'chanceCreationCrossing', 'chanceCreationCrossingClass', 'chanceCreationShooting', 'chanceCreationShootingClass', 'chanceCreationPositioningClass', 'defencePressure', 'defencePressureClass', 'defenceAggression', 'defenceAggressionClass', 'defenceTeamWidth', 'defenceTeamWidthClass', 'defenceDefenderLineClass']\n",
      "\n",
      "country_table: ['id', 'name']\n",
      "\n",
      "players: ['id', 'player_api_id', 'player_name', 'player_fifa_api_id', 'birthday', 'height', 'weight']\n",
      "\n",
      "player_attributes: ['id', 'player_fifa_api_id', 'player_api_id', 'date', 'overall_rating', 'potential', 'preferred_foot', 'attacking_work_rate', 'defensive_work_rate', 'crossing', 'finishing', 'heading_accuracy', 'short_passing', 'volleys', 'dribbling', 'curve', 'free_kick_accuracy', 'long_passing', 'ball_control', 'acceleration', 'sprint_speed', 'agility', 'reactions', 'balance', 'shot_power', 'jumping', 'stamina', 'strength', 'long_shots', 'aggression', 'interceptions', 'positioning', 'vision', 'penalties', 'marking', 'standing_tackle', 'sliding_tackle', 'gk_diving', 'gk_handling', 'gk_kicking', 'gk_positioning', 'gk_reflexes']\n",
      "\n",
      "leagues: ['id', 'country_id', 'name']\n",
      "\n"
     ]
    }
   ],
   "execution_count": 4
  },
  {
   "metadata": {},
   "cell_type": "markdown",
   "source": [
    "### 4. Match Result Label Generation\n",
    "Creating target labels for supervised learning by converting match scores into categorical outcomes.\n",
    "\n",
    "**Label mapping:**\n",
    "- `1`: Home team win\n",
    "- `0`: Draw\n",
    "- `-1`: Away team win\n",
    "\n",
    "These labels will be used as ground truth for model training and evaluation."
   ],
   "id": "f845f61a36e41e2f"
  },
  {
   "metadata": {
    "ExecuteTime": {
     "end_time": "2025-07-15T13:56:06.206152Z",
     "start_time": "2025-07-15T13:56:05.892172Z"
    }
   },
   "cell_type": "code",
   "source": [
    "def create_match_result(row):\n",
    "    if row['home_team_goal'] > row['away_team_goal']:\n",
    "        return 1  # Home win\n",
    "    elif row['home_team_goal'] < row['away_team_goal']:\n",
    "        return -1  # Away win\n",
    "    else:\n",
    "        return 0  # Draw\n",
    "\n",
    "match_table['result'] = match_table.apply(create_match_result, axis=1)\n",
    "match_table['result_label'] = match_table['result'].map({1: 'home_win', 0: 'draw', -1: 'away_win'})"
   ],
   "id": "e9a5cb263445dc3b",
   "outputs": [],
   "execution_count": 5
  },
  {
   "metadata": {},
   "cell_type": "markdown",
   "source": [
    "### 5. Data Integration and Enhancement\n",
    "Merging match data with team information, leagues, and country data to create a comprehensive dataset with all relevant context for each match.\n",
    "\n",
    "**Integration process:**\n",
    "1. Merge matches with league information\n",
    "2. Add country context\n",
    "3. Include home and away team details\n",
    "4. Create enhanced feature set"
   ],
   "id": "bba5a97a6a03b5da"
  },
  {
   "metadata": {
    "ExecuteTime": {
     "end_time": "2025-07-15T13:56:08.306775Z",
     "start_time": "2025-07-15T13:56:08.143203Z"
    }
   },
   "cell_type": "code",
   "source": [
    "matches_enhanced = match_table.merge(\n",
    "    leagues_table, left_on='league_id', right_on='id', how='left', suffixes=('', '_league')\n",
    ").merge(\n",
    "    country_table, left_on='country_id', right_on='id', how='left', suffixes=('', '_country')\n",
    ")\n",
    "matches_enhanced = matches_enhanced.merge(\n",
    "    team_table, left_on='home_team_api_id', right_on='team_api_id',\n",
    "    how='left', suffixes=('', '_home_team')\n",
    ")\n",
    "matches_enhanced.rename(columns={\n",
    "    'team_long_name': 'home_team_name',\n",
    "    'team_short_name': 'home_team_short'\n",
    "}, inplace=True)\n",
    "matches_enhanced = matches_enhanced.merge(\n",
    "    team_table, left_on='away_team_api_id', right_on='team_api_id',\n",
    "    how='left', suffixes=('', '_away_team')\n",
    ")\n",
    "matches_enhanced.rename(columns={\n",
    "    'team_long_name': 'away_team_name',\n",
    "    'team_short_name': 'away_team_short'\n",
    "}, inplace=True)\n",
    "\n",
    "print(f\"The main dataset has been created: {matches_enhanced.shape}\")"
   ],
   "id": "2f4449861463cd06",
   "outputs": [
    {
     "name": "stdout",
     "output_type": "stream",
     "text": [
      "The main dataset has been created: (25979, 132)\n"
     ]
    }
   ],
   "execution_count": 6
  },
  {
   "metadata": {},
   "cell_type": "markdown",
   "source": [
    "### 6. Player Data Extraction and Aggregation\n",
    "Implementing functions to extract player information for specific matches and aggregate player statistics at the team level.\n",
    "\n",
    "**Key functions:**\n",
    "- `get_match_players()`: Extract player lineup for matches\n",
    "- `get_players_attributes_for_match()`: Get player attributes closest to match date\n",
    "- `aggregate_team_player_stats()`: Aggregate individual player stats into team-level features\n",
    "\n",
    "**Aggregation methods:**\n",
    "- Mean, max, min, standard deviation of player attributes\n",
    "- Categorical features (preferred foot, work rates)"
   ],
   "id": "7bb670ffff258aca"
  },
  {
   "metadata": {
    "ExecuteTime": {
     "end_time": "2025-07-15T13:56:10.668573Z",
     "start_time": "2025-07-15T13:56:10.659154Z"
    }
   },
   "cell_type": "code",
   "source": [
    "def get_match_players(match_row, team_type='home'):\n",
    "    player_columns = [f'{team_type}_player_{i}' for i in range(1, 12)]\n",
    "    players = []\n",
    "    for col in player_columns:\n",
    "        if col in match_row and pd.notna(match_row[col]):\n",
    "            players.append(int(match_row[col]))\n",
    "    return players\n",
    "\n",
    "def get_players_attributes_for_match(player_ids, match_date, player_attributes):\n",
    "    if not player_ids:\n",
    "        return pd.DataFrame()\n",
    "    match_date = pd.to_datetime(match_date)\n",
    "    relevant_attributes = player_attributes[\n",
    "        player_attributes['player_api_id'].isin(player_ids)\n",
    "    ].copy()\n",
    "\n",
    "    if relevant_attributes.empty:\n",
    "        return pd.DataFrame()\n",
    "    relevant_attributes['date'] = pd.to_datetime(relevant_attributes['date'])\n",
    "    player_attrs_list = []\n",
    "    for player_id in player_ids:\n",
    "        player_data = relevant_attributes[\n",
    "            (relevant_attributes['player_api_id'] == player_id) &\n",
    "            (relevant_attributes['date'] <= match_date)\n",
    "        ]\n",
    "\n",
    "        if not player_data.empty:\n",
    "            latest_attr = player_data.loc[player_data['date'].idxmax()]\n",
    "            player_attrs_list.append(latest_attr)\n",
    "\n",
    "    if player_attrs_list:\n",
    "        return pd.DataFrame(player_attrs_list)\n",
    "    else:\n",
    "        return pd.DataFrame()\n",
    "\n",
    "def aggregate_team_player_stats(team_players_attrs):\n",
    "    if team_players_attrs.empty:\n",
    "        return {}\n",
    "    key_attributes = [\n",
    "        'overall_rating', 'potential', 'crossing', 'finishing', 'heading_accuracy',\n",
    "        'short_passing', 'long_passing', 'ball_control', 'acceleration', 'sprint_speed',\n",
    "        'agility', 'shot_power', 'stamina', 'strength', 'aggression', 'interceptions',\n",
    "        'positioning', 'vision', 'marking', 'standing_tackle', 'sliding_tackle'\n",
    "    ]\n",
    "    aggregated_stats = {}\n",
    "    for attr in key_attributes:\n",
    "        if attr in team_players_attrs.columns and not team_players_attrs[attr].isna().all():\n",
    "            aggregated_stats[f'{attr}_mean'] = team_players_attrs[attr].mean()\n",
    "            aggregated_stats[f'{attr}_max'] = team_players_attrs[attr].max()\n",
    "            aggregated_stats[f'{attr}_min'] = team_players_attrs[attr].min()\n",
    "            aggregated_stats[f'{attr}_std'] = team_players_attrs[attr].std()\n",
    "    if 'preferred_foot' in team_players_attrs.columns:\n",
    "        foot_counts = team_players_attrs['preferred_foot'].value_counts()\n",
    "        aggregated_stats['right_foot_players'] = foot_counts.get('right', 0)\n",
    "        aggregated_stats['left_foot_players'] = foot_counts.get('left', 0)\n",
    "    if 'attacking_work_rate' in team_players_attrs.columns:\n",
    "        work_rate_counts = team_players_attrs['attacking_work_rate'].value_counts()\n",
    "        aggregated_stats['high_attack_work_rate'] = work_rate_counts.get('high', 0)\n",
    "        aggregated_stats['medium_attack_work_rate'] = work_rate_counts.get('medium', 0)\n",
    "        aggregated_stats['low_attack_work_rate'] = work_rate_counts.get('low', 0)\n",
    "    if 'defensive_work_rate' in team_players_attrs.columns:\n",
    "        def_work_rate_counts = team_players_attrs['defensive_work_rate'].value_counts()\n",
    "        aggregated_stats['high_defence_work_rate'] = def_work_rate_counts.get('high', 0)\n",
    "        aggregated_stats['medium_defence_work_rate'] = def_work_rate_counts.get('medium', 0)\n",
    "    return aggregated_stats"
   ],
   "id": "3e831cfd5880d306",
   "outputs": [],
   "execution_count": 7
  },
  {
   "metadata": {},
   "cell_type": "markdown",
   "source": [
    "### 7. Team Tactical Attributes Integration\n",
    "Implementing functions to retrieve team tactical attributes that are closest to each match date, ensuring temporal consistency in the dataset.\n",
    "\n",
    "**Key features:**\n",
    "- Build-up play characteristics\n",
    "- Chance creation patterns\n",
    "- Defensive strategies\n",
    "- Team positioning and width"
   ],
   "id": "bf16bde0e43a840f"
  },
  {
   "metadata": {
    "ExecuteTime": {
     "end_time": "2025-07-15T13:56:14.609117Z",
     "start_time": "2025-07-15T13:56:14.602089Z"
    }
   },
   "cell_type": "code",
   "source": [
    "def get_team_attributes_for_match(match_date, team_api_id, team_attributes):\n",
    "    team_attrs = team_attributes[team_attributes['team_api_id'] == team_api_id].copy()\n",
    "    if team_attrs.empty:\n",
    "        return pd.Series()\n",
    "\n",
    "    team_attrs['date'] = pd.to_datetime(team_attrs['date']) # date representation\n",
    "    match_date = pd.to_datetime(match_date)\n",
    "    valid_attrs = team_attrs[team_attrs['date'] <= match_date]\n",
    "    if valid_attrs.empty:\n",
    "        return team_attrs.iloc[0]\n",
    "\n",
    "    return valid_attrs.loc[valid_attrs['date'].idxmax()]\n",
    "\n",
    "def get_team_embeddings(match_row, team_type, embeddings_data):\n",
    "    player_cols = [f\"{team_type}_player_{i}\" for i in range(1, 12)]\n",
    "    player_ids = [int(match_row[col]) for col in player_cols if pd.notna(match_row[col])]\n",
    "    idx_map = embeddings_data['player_id_to_idx']\n",
    "    valid_idxs = [idx_map[pid] for pid in player_ids if pid in idx_map]\n",
    "    profiles_df = embeddings_data['profiles_df']\n",
    "    if not valid_idxs:\n",
    "        return np.zeros(len(embeddings_data['numeric_features']))\n",
    "    team_embs = profiles_df.iloc[valid_idxs][embeddings_data['numeric_features']].values\n",
    "    return team_embs.mean(axis=0)"
   ],
   "id": "fee530aba25afc3c",
   "outputs": [],
   "execution_count": 8
  },
  {
   "metadata": {},
   "cell_type": "markdown",
   "source": [
    "### 8. Comprehensive ML Dataset Construction\n",
    "Creating the final machine learning dataset by combining all features:\n",
    "\n",
    "**Feature types:**\n",
    "1. **Team embeddings**: Pre-computed player embeddings aggregated at team level\n",
    "2. **Tactical attributes**: Team playing style characteristics\n",
    "3. **Temporal features**: Season and stage information\n",
    "\n",
    "**Processing steps:**\n",
    "1. Extract team embeddings for home and away teams\n",
    "2. Merge with tactical attributes\n",
    "3. Create temporal features\n",
    "4. Generate target labels"
   ],
   "id": "c9c41a73125d1b53"
  },
  {
   "metadata": {
    "ExecuteTime": {
     "end_time": "2025-07-15T13:58:57.717493Z",
     "start_time": "2025-07-15T13:56:17.384375Z"
    }
   },
   "cell_type": "code",
   "source": [
    "def create_comprehensive_ml_dataset(matches_df, team_attributes, player_attributes):\n",
    "    ml = matches_df.copy()\n",
    "    ml['season_encoded'] = ml['season'].str.replace('/', '').astype(int)\n",
    "    ml['stage'] = ml['stage'].fillna(0)\n",
    "    feature_rows = []\n",
    "    total = len(ml)\n",
    "    for idx, match in ml.iterrows():\n",
    "        if idx % 3000 == 0:\n",
    "            print(f\"Processed {idx} from {total}\")\n",
    "        home_attr = get_team_attributes_for_match(match['date'], match['home_team_api_id'], team_attributes)\n",
    "        away_attr = get_team_attributes_for_match(match['date'], match['away_team_api_id'], team_attributes)\n",
    "        row = {}\n",
    "        home_emb = get_team_embeddings(match, 'home', embeddings_data)\n",
    "        away_emb = get_team_embeddings(match, 'away', embeddings_data)\n",
    "        for i, feat in enumerate(embeddings_data['numeric_features']):\n",
    "            row[f'home_emb_{feat}'] = home_emb[i]\n",
    "            row[f'away_emb_{feat}'] = away_emb[i]\n",
    "        for col in [\n",
    "            'buildUpPlaySpeed','buildUpPlayPassing','chanceCreationPassing',\n",
    "            'chanceCreationCrossing','chanceCreationShooting','defencePressure',\n",
    "            'defenceAggression','defenceTeamWidth'\n",
    "        ]:\n",
    "            row[f'home_{col}'] = home_attr.get(col, np.nan)\n",
    "            row[f'away_{col}'] = away_attr.get(col, np.nan)\n",
    "\n",
    "        row['result_label'] = match['result_label']\n",
    "        feature_rows.append(row)\n",
    "    features_df = pd.DataFrame(feature_rows, index=ml.index)\n",
    "    comprehensive = pd.concat([ml, features_df], axis=1)\n",
    "    print(f\"Comprehensive dataset shape: {comprehensive.shape}\")\n",
    "    return comprehensive\n",
    "\n",
    "comprehensive_dataset = create_comprehensive_ml_dataset(matches_enhanced, team_attributes, player_attributes)\n",
    "\n",
    "print(f\"A comprehensive dataset has been created: {comprehensive_dataset.shape}\")\n",
    "print(comprehensive_dataset.head())"
   ],
   "id": "6a193398d14bed0a",
   "outputs": [
    {
     "name": "stdout",
     "output_type": "stream",
     "text": [
      "Processed 0 from 25979\n",
      "Processed 3000 from 25979\n",
      "Processed 6000 from 25979\n",
      "Processed 9000 from 25979\n",
      "Processed 12000 from 25979\n",
      "Processed 15000 from 25979\n",
      "Processed 18000 from 25979\n",
      "Processed 21000 from 25979\n",
      "Processed 24000 from 25979\n",
      "Comprehensive dataset shape: (25979, 220)\n",
      "A comprehensive dataset has been created: (25979, 220)\n",
      "   id  country_id  league_id     season  stage                 date  \\\n",
      "0   1           1          1  2008/2009      1  2008-08-17 00:00:00   \n",
      "1   2           1          1  2008/2009      1  2008-08-16 00:00:00   \n",
      "2   3           1          1  2008/2009      1  2008-08-16 00:00:00   \n",
      "3   4           1          1  2008/2009      1  2008-08-17 00:00:00   \n",
      "4   5           1          1  2008/2009      1  2008-08-16 00:00:00   \n",
      "\n",
      "   match_api_id  home_team_api_id  away_team_api_id  home_team_goal  ...  \\\n",
      "0        492473              9987              9993               1  ...   \n",
      "1        492474             10000              9994               0  ...   \n",
      "2        492475              9984              8635               0  ...   \n",
      "3        492476              9991              9998               5  ...   \n",
      "4        492477              7947              9985               1  ...   \n",
      "\n",
      "   away_chanceCreationCrossing  home_chanceCreationShooting  \\\n",
      "0                         40.0                         60.0   \n",
      "1                         40.0                         50.0   \n",
      "2                         50.0                         55.0   \n",
      "3                         48.0                         60.0   \n",
      "4                         55.0                          NaN   \n",
      "\n",
      "   away_chanceCreationShooting  home_defencePressure  away_defencePressure  \\\n",
      "0                         50.0                  70.0                  70.0   \n",
      "1                         50.0                  70.0                  65.0   \n",
      "2                         60.0                  65.0                  70.0   \n",
      "3                         46.0                  45.0                  46.0   \n",
      "4                         65.0                   NaN                  70.0   \n",
      "\n",
      "   home_defenceAggression  away_defenceAggression  home_defenceTeamWidth  \\\n",
      "0                    65.0                    70.0                   70.0   \n",
      "1                    60.0                    65.0                   70.0   \n",
      "2                    60.0                    50.0                   70.0   \n",
      "3                    50.0                    45.0                   40.0   \n",
      "4                     NaN                    70.0                    NaN   \n",
      "\n",
      "   away_defenceTeamWidth  result_label  \n",
      "0                   70.0          draw  \n",
      "1                   70.0          draw  \n",
      "2                   70.0      away_win  \n",
      "3                   47.0      home_win  \n",
      "4                   65.0      away_win  \n",
      "\n",
      "[5 rows x 220 columns]\n"
     ]
    }
   ],
   "execution_count": 9
  },
  {
   "metadata": {},
   "cell_type": "markdown",
   "source": [
    "### 9. Data Quality Assessment and Missing Value Analysis\n",
    "Analyzing the dataset for missing values and data quality issues to inform preprocessing decisions.\n",
    "\n",
    "**Key metrics:**\n",
    "- Missing value counts by column\n",
    "- Percentage of complete records\n",
    "- Data distribution analysis\n",
    "\n",
    "**Quality checks:**\n",
    "- Identify columns with excessive missing values\n",
    "- Analyze patterns in missing data\n",
    "- Determine preprocessing strategies"
   ],
   "id": "c48b700f76b9498b"
  },
  {
   "metadata": {
    "ExecuteTime": {
     "end_time": "2025-07-15T13:59:04.924959Z",
     "start_time": "2025-07-15T13:59:03.888208Z"
    }
   },
   "cell_type": "code",
   "source": [
    "comprehensive_dataset['result'] = comprehensive_dataset.apply(create_match_result, axis=1)\n",
    "comprehensive_dataset['result_label'] = comprehensive_dataset['result'].map({1: 'home_win', 0: 'draw', -1: 'away_win'})\n",
    "\n",
    "comprehensive_dataset = comprehensive_dataset.loc[:,~comprehensive_dataset.columns.duplicated()]\n",
    "comprehensive_dataset = comprehensive_dataset[comprehensive_dataset['result_label'] != 'draw'].reset_index(drop=True)\n",
    "\n",
    "rows_with_nan = comprehensive_dataset.isnull().any(axis=1).sum()\n",
    "total_rows = len(comprehensive_dataset)\n",
    "rows_without_nan = total_rows - rows_with_nan\n",
    "\n",
    "print(f\"Number of notes with NaN: {rows_with_nan}\")\n",
    "print(f\"Overall number of notes in dataset: {total_rows}\")\n",
    "\n",
    "def analyze_missing_data(df):\n",
    "    nan_by_column = df.isnull().sum().sort_values(ascending=False)\n",
    "    print(f\"\\nTop 50 lines by number of NaN:\")\n",
    "    print(nan_by_column.head(50))\n",
    "    rows_with_nan = df.isnull().any(axis=1).sum()\n",
    "    print(f\"\\nNumber of notes with at least one NaN: {rows_with_nan} из {len(df)}\")\n",
    "    complete_rows = len(df) - rows_with_nan\n",
    "    print(f\"Full notes: {complete_rows}\")\n",
    "\n",
    "analyze_missing_data(comprehensive_dataset)"
   ],
   "id": "589074d68b41a1ac",
   "outputs": [
    {
     "name": "stdout",
     "output_type": "stream",
     "text": [
      "Number of notes with NaN: 18079\n",
      "Overall number of notes in dataset: 19383\n",
      "\n",
      "Top 50 lines by number of NaN:\n",
      "PSA                11034\n",
      "PSD                11034\n",
      "PSH                11034\n",
      "BSD                 8841\n",
      "BSA                 8841\n",
      "BSH                 8841\n",
      "GBD                 8840\n",
      "GBH                 8840\n",
      "GBA                 8840\n",
      "goal                8762\n",
      "foulcommit          8762\n",
      "corner              8762\n",
      "possession          8762\n",
      "cross               8762\n",
      "card                8762\n",
      "shotoff             8762\n",
      "shoton              8762\n",
      "SJD                 6620\n",
      "SJH                 6620\n",
      "SJA                 6620\n",
      "IWH                 2555\n",
      "IWD                 2555\n",
      "IWA                 2555\n",
      "LBD                 2539\n",
      "LBA                 2539\n",
      "LBH                 2539\n",
      "WHD                 2525\n",
      "WHA                 2525\n",
      "WHH                 2525\n",
      "VCH                 2520\n",
      "VCD                 2520\n",
      "VCA                 2520\n",
      "BWH                 2516\n",
      "BWA                 2516\n",
      "BWD                 2516\n",
      "B365H               2507\n",
      "B365D               2507\n",
      "B365A               2507\n",
      "away_player_X11     1363\n",
      "away_player_Y11     1363\n",
      "away_player_X10     1359\n",
      "away_player_Y10     1359\n",
      "away_player_Y9      1359\n",
      "away_player_X9      1359\n",
      "away_player_Y2      1358\n",
      "away_player_Y1      1358\n",
      "away_player_Y4      1358\n",
      "home_player_Y11     1358\n",
      "home_player_Y10     1358\n",
      "away_player_Y8      1358\n",
      "dtype: int64\n",
      "\n",
      "Number of notes with at least one NaN: 18079 из 19383\n",
      "Full notes: 1304\n"
     ]
    }
   ],
   "execution_count": 10
  },
  {
   "metadata": {},
   "cell_type": "markdown",
   "source": [
    "### 10. Missing Value Treatment and Column Filtering\n",
    "Implementing a systematic approach to handle missing values by removing columns with excessive missing data.\n",
    "\n",
    "**Strategy:**\n",
    "1. Rank columns by missing value count\n",
    "2. Remove top N columns with highest missing values\n",
    "3. Evaluate impact on dataset completeness\n",
    "4. Assess trade-off between feature quantity and data quality\n",
    "\n",
    "**Results:**\n",
    "- Improved dataset completeness\n",
    "- Reduced dimensionality\n",
    "- Better model training stability"
   ],
   "id": "214c893f4502bfcb"
  },
  {
   "metadata": {
    "ExecuteTime": {
     "end_time": "2025-07-15T13:59:09.426768Z",
     "start_time": "2025-07-15T13:59:09.341469Z"
    }
   },
   "cell_type": "code",
   "source": [
    "def drop_top_n_nan_columns(df, n):\n",
    "    nan_counts = df.isnull().sum().sort_values(ascending=False)\n",
    "    top_nan_cols = nan_counts.head(n).index.tolist()\n",
    "    df_dropped = df.drop(columns=top_nan_cols) # drop tables\n",
    "    return df_dropped, top_nan_cols, nan_counts.head(n)\n",
    "\n",
    "dropped_df, dropped_cols, nan_stats = drop_top_n_nan_columns(comprehensive_dataset, n=35)\n",
    "\n",
    "print(\"Cleaning results\") # Results Analysing\n",
    "print(f\"Default size: {comprehensive_dataset.shape}\")\n",
    "print(f\"Size after cleaning: {dropped_df.shape}\")\n",
    "print(f\"Number of deleted tables: {len(dropped_cols)}\")\n",
    "\n",
    "total_nan_after = dropped_df.isnull().sum().sum() # NaN calculation\n",
    "rows_with_nan_after = dropped_df.isnull().any(axis=1).sum()\n",
    "complete_rows_after = len(dropped_df) - rows_with_nan_after\n",
    "\n",
    "print(f\"\\nCurrent number of NaN: {total_nan_after}\")\n",
    "print(f\"Number of notes with at least one NaN: {rows_with_nan_after} from {len(dropped_df)}\")\n",
    "print(f\"Full notes: {complete_rows_after} ({complete_rows_after/len(dropped_df)*100:.1f}%)\")\n",
    "print(f\"\\nTop - 10 deleted columns: {len(dropped_cols)}:\")\n",
    "print(nan_stats.head(10))\n",
    "\n",
    "analyze_missing_data(dropped_df)\n",
    "\n",
    "print(f\"Current number of columns: {len(dropped_df.columns.tolist())}\")"
   ],
   "id": "1a36835a21f3562b",
   "outputs": [
    {
     "name": "stdout",
     "output_type": "stream",
     "text": [
      "Cleaning results\n",
      "Default size: (19383, 219)\n",
      "Size after cleaning: (19383, 184)\n",
      "Number of deleted tables: 35\n",
      "\n",
      "Current number of NaN: 91398\n",
      "Number of notes with at least one NaN: 4730 from 19383\n",
      "Full notes: 14653 (75.6%)\n",
      "\n",
      "Top - 10 deleted columns: 35:\n",
      "PSA     11034\n",
      "PSD     11034\n",
      "PSH     11034\n",
      "BSD      8841\n",
      "BSA      8841\n",
      "BSH      8841\n",
      "GBD      8840\n",
      "GBH      8840\n",
      "GBA      8840\n",
      "goal     8762\n",
      "dtype: int64\n",
      "\n",
      "Top 50 lines by number of NaN:\n",
      "B365H              2507\n",
      "B365D              2507\n",
      "B365A              2507\n",
      "away_player_Y11    1363\n",
      "away_player_X11    1363\n",
      "away_player_Y10    1359\n",
      "away_player_X9     1359\n",
      "away_player_X10    1359\n",
      "away_player_Y9     1359\n",
      "away_player_X1     1358\n",
      "away_player_X2     1358\n",
      "home_player_Y6     1358\n",
      "home_player_Y4     1358\n",
      "home_player_X11    1358\n",
      "home_player_Y3     1358\n",
      "away_player_X7     1358\n",
      "away_player_X3     1358\n",
      "away_player_X6     1358\n",
      "home_player_X8     1358\n",
      "home_player_X9     1358\n",
      "home_player_X10    1358\n",
      "home_player_Y5     1358\n",
      "home_player_X6     1358\n",
      "home_player_X7     1358\n",
      "away_player_Y4     1358\n",
      "away_player_Y3     1358\n",
      "home_player_Y7     1358\n",
      "home_player_Y8     1358\n",
      "away_player_Y1     1358\n",
      "home_player_Y9     1358\n",
      "home_player_Y10    1358\n",
      "home_player_Y11    1358\n",
      "away_player_Y8     1358\n",
      "away_player_Y7     1358\n",
      "away_player_Y2     1358\n",
      "away_player_Y5     1358\n",
      "away_player_Y6     1358\n",
      "away_player_X5     1358\n",
      "away_player_X8     1358\n",
      "away_player_X4     1358\n",
      "home_player_X5     1358\n",
      "home_player_X3     1358\n",
      "home_player_X4     1358\n",
      "home_player_X1     1349\n",
      "home_player_Y1     1349\n",
      "home_player_Y2     1349\n",
      "home_player_X2     1349\n",
      "away_player_11     1146\n",
      "home_player_11     1144\n",
      "away_player_10     1068\n",
      "dtype: int64\n",
      "\n",
      "Number of notes with at least one NaN: 4730 из 19383\n",
      "Full notes: 14653\n",
      "Current number of columns: 184\n"
     ]
    }
   ],
   "execution_count": 11
  },
  {
   "metadata": {},
   "cell_type": "markdown",
   "source": [
    "### 11. Feature Availability Verification\n",
    "Verifying that all required features for model training are available in the cleaned dataset.\n",
    "\n",
    "**Key features verified:**\n",
    "- Team tactical attributes (home/away)\n",
    "- Betting odds (for external validation)\n",
    "- Target labels\n",
    "- No missing critical features"
   ],
   "id": "c4b1548eccb52d0b"
  },
  {
   "metadata": {
    "ExecuteTime": {
     "end_time": "2025-07-20T09:55:23.673752Z",
     "start_time": "2025-07-20T09:55:23.476125Z"
    }
   },
   "cell_type": "code",
   "source": [
    "all_features = [\n",
    "    'home_buildUpPlaySpeed', 'home_buildUpPlayPassing', 'home_chanceCreationPassing',\n",
    "    'home_chanceCreationCrossing', 'home_chanceCreationShooting', 'home_defencePressure',\n",
    "    'home_defenceAggression', 'home_defenceTeamWidth',\n",
    "    'away_buildUpPlaySpeed', 'away_buildUpPlayPassing', 'away_chanceCreationPassing',\n",
    "    'away_chanceCreationCrossing', 'away_chanceCreationShooting', 'away_defencePressure',\n",
    "    'away_defenceAggression', 'away_defenceTeamWidth', 'result_label','B365H', 'B365D', 'B365A'\n",
    "]\n",
    "available_features = [f for f in all_features if f in dropped_df]\n",
    "missing_features = [f for f in all_features if f not in dropped_df]\n",
    "\n",
    "print(f\"Total requested attributes: {len(all_features)}\")\n",
    "print(f\"Available features: {len(available_features)}\")\n",
    "print(f\"Missing features: {len(missing_features)}\")\n",
    "\n",
    "if missing_features:\n",
    "    print(f\"Top 10 missing features: {missing_features[:10]}\")\n",
    "\n",
    "print(dropped_df.head())"
   ],
   "id": "f81339027703c040",
   "outputs": [
    {
     "name": "stdout",
     "output_type": "stream",
     "text": [
      "Total requested attributes: 20\n",
      "Available features: 20\n",
      "Missing features: 0\n",
      "   id  country_id  league_id     season  stage                 date  \\\n",
      "0   3           1          1  2008/2009      1  2008-08-16 00:00:00   \n",
      "1   4           1          1  2008/2009      1  2008-08-17 00:00:00   \n",
      "2   5           1          1  2008/2009      1  2008-08-16 00:00:00   \n",
      "3   8           1          1  2008/2009      1  2008-08-16 00:00:00   \n",
      "4   9           1          1  2008/2009      1  2008-08-16 00:00:00   \n",
      "\n",
      "   match_api_id  home_team_api_id  away_team_api_id  home_team_goal  ...  \\\n",
      "0        492475              9984              8635               0  ...   \n",
      "1        492476              9991              9998               5  ...   \n",
      "2        492477              7947              9985               1  ...   \n",
      "3        492480              4049              9996               1  ...   \n",
      "4        492481             10001              9986               1  ...   \n",
      "\n",
      "   home_chanceCreationCrossing  away_chanceCreationCrossing  \\\n",
      "0                         45.0                         50.0   \n",
      "1                         50.0                         48.0   \n",
      "2                          NaN                         55.0   \n",
      "3                          NaN                         50.0   \n",
      "4                         45.0                         43.0   \n",
      "\n",
      "   home_chanceCreationShooting  away_chanceCreationShooting  \\\n",
      "0                         55.0                         60.0   \n",
      "1                         60.0                         46.0   \n",
      "2                          NaN                         65.0   \n",
      "3                          NaN                         50.0   \n",
      "4                         55.0                         60.0   \n",
      "\n",
      "   home_defencePressure  away_defencePressure  home_defenceAggression  \\\n",
      "0                  65.0                  70.0                    60.0   \n",
      "1                  45.0                  46.0                    50.0   \n",
      "2                   NaN                  70.0                     NaN   \n",
      "3                   NaN                  45.0                     NaN   \n",
      "4                  70.0                  70.0                    70.0   \n",
      "\n",
      "   away_defenceAggression  home_defenceTeamWidth  away_defenceTeamWidth  \n",
      "0                    50.0                   70.0                   70.0  \n",
      "1                    45.0                   40.0                   47.0  \n",
      "2                    70.0                    NaN                   65.0  \n",
      "3                    45.0                    NaN                   50.0  \n",
      "4                    70.0                   70.0                   70.0  \n",
      "\n",
      "[5 rows x 184 columns]\n"
     ]
    }
   ],
   "execution_count": 4
  },
  {
   "metadata": {},
   "cell_type": "markdown",
   "source": [
    "### 12. Data Preprocessing and PCA Implementation\n",
    "Implementing comprehensive preprocessing pipeline including:\n",
    "\n",
    "**Preprocessing steps:**\n",
    "1. **Temporal weighting**: Recent matches weighted more heavily\n",
    "2. **Train-test split**: 70% training, 15% validation, 15% test\n",
    "3. **Standardization**: Features scaled to mean=0, std=1\n",
    "4. **PCA**: Dimensionality reduction to 10 components\n",
    "\n",
    "**PCA benefits:**\n",
    "- Reduced computational complexity\n",
    "- Noise reduction\n",
    "- Feature decorrelation\n",
    "- Prevents overfitting"
   ],
   "id": "13a52e2691003658"
  },
  {
   "metadata": {
    "ExecuteTime": {
     "end_time": "2025-07-20T09:55:26.847311Z",
     "start_time": "2025-07-20T09:55:26.654671Z"
    }
   },
   "cell_type": "code",
   "source": [
    "final_df = dropped_df[all_features + ['date']].dropna().reset_index(drop=True)\n",
    "final_df['date'] = pd.to_datetime(final_df['date'])\n",
    "min_date = final_df['date'].min()\n",
    "max_date = final_df['date'].max()\n",
    "date_range = (max_date - min_date).days\n",
    "\n",
    "\n",
    "weights = 1 + (final_df['date'] - min_date).dt.days / date_range\n",
    "sample_weights = weights.values\n",
    "\n",
    "y = final_df['result_label'].map({'home_win': 1, 'away_win': 0}).values\n",
    "X_df = final_df.drop(columns=['result_label', 'date'])\n",
    "X = X_df.values\n",
    "\n",
    "X_train, X_temp, y_train, y_temp, weights_train, weights_temp = train_test_split(\n",
    "X, y, sample_weights, train_size=0.7, stratify=y, random_state=91\n",
    ")\n",
    "X_val, X_test, y_val, y_test, weights_val, weights_test = train_test_split(\n",
    "    X_temp, y_temp, weights_temp, test_size=0.5, stratify=y_temp, random_state=91\n",
    ")\n",
    "\n",
    "# PCA pipeline\n",
    "preprocessor = Pipeline([\n",
    "    ('scaler', StandardScaler()),\n",
    "    ('pca', PCA(n_components=10))\n",
    "])\n",
    "\n",
    "X_train_processed = preprocessor.fit_transform(X_train)\n",
    "X_val_processed = preprocessor.transform(X_val)\n",
    "X_test_processed = preprocessor.transform(X_test)\n",
    "\n",
    "print(f\"The size of the training sample after PCA: {X_train_processed.shape}\")\n",
    "print(f\"The variance explained by the first 10 components: {sum(preprocessor.named_steps['pca'].explained_variance_ratio_):.2f}\")\n",
    "\n",
    "pd.DataFrame(X_test_processed).to_csv('../backend/goalsight/predictions/tests/test_data/X_test.csv', index=False)\n",
    "pd.DataFrame(y_test, columns=['result_label']).to_csv('../backend/goalsight/predictions/tests/test_data/y_test.csv', index=False)"
   ],
   "id": "f7670c28d1ca730f",
   "outputs": [
    {
     "name": "stdout",
     "output_type": "stream",
     "text": [
      "result                                     object\n",
      "date                               datetime64[ns]\n",
      "away_win_odd                              float64\n",
      "home_win_odd                              float64\n",
      "away_avg_age                              float64\n",
      "away_goal_avg_last_5                      float64\n",
      "away_avg_shots_on_target_last_5           float64\n",
      "away_avg_xG_last_5                        float64\n",
      "away_avg_xGA_last_5                       float64\n",
      "away_days_since_last_game                 float64\n",
      "away_elo_rating                           float64\n",
      "away_glicko2_rating                       float64\n",
      "away_market_value                         float64\n",
      "away_matches_14_days                      float64\n",
      "away_rd                                   float64\n",
      "away_volatility                           float64\n",
      "home_avg_age                              float64\n",
      "home_goal_avg_last_5                      float64\n",
      "home_avg_shots_on_target_last_5           float64\n",
      "home_avg_xG_last_5                        float64\n",
      "home_avg_xGA_last_5                       float64\n",
      "home_days_since_last_game                 float64\n",
      "home_elo_rating                           float64\n",
      "home_glicko2_rating                       float64\n",
      "home_market_value                         float64\n",
      "home_matches_14_days                      float64\n",
      "home_rd                                   float64\n",
      "home_volatility                           float64\n",
      "league_strength_away                      float64\n",
      "league_strength_home                      float64\n",
      "team_strength_away                        float64\n",
      "team_strength_home                        float64\n",
      "home_wins_last_5                          float64\n",
      "away_wins_last_5                          float64\n",
      "home_losses_last_5                        float64\n",
      "away_losses_last_5                        float64\n",
      "home_draws_last_5                         float64\n",
      "away_draws_last_5                         float64\n",
      "home_att_vs_diff                          float64\n",
      "away_att_vs_diff                          float64\n",
      "dtype: object\n",
      "The size of the training sample after PCA: (10585, 32)\n",
      "The variance explained by the first 32 components: 1.00\n"
     ]
    }
   ],
   "execution_count": 5
  },
  {
   "metadata": {},
   "cell_type": "markdown",
   "source": [
    "### 13. Logistic Regression Training and Evaluation\n",
    "Training and evaluating a Logistic Regression model for match outcome prediction.\n",
    "\n",
    "**Model configuration:**\n",
    "- Grid search for hyperparameter optimization\n",
    "- Cross-validation for robust performance estimation\n",
    "- Temporal sample weighting for recent match emphasis\n",
    "\n",
    "**Hyperparameters tuned:**\n",
    "- Regularization strength (C)\n",
    "- Solver algorithm\n",
    "- Maximum iterations\n",
    "\n",
    "**Evaluation metrics:**\n",
    "- Accuracy, precision, recall, F1-score\n",
    "- Confusion matrix analysis\n",
    "- Cross-validation performance"
   ],
   "id": "d7c353b505273210"
  },
  {
   "metadata": {
    "ExecuteTime": {
     "end_time": "2025-07-20T09:55:37.953074Z",
     "start_time": "2025-07-20T09:55:31.340510Z"
    }
   },
   "cell_type": "code",
   "source": [
    "param_grid = {\n",
    "    'C': [0.01, 0.1, 1, 10, 100],\n",
    "    'solver': ['sag', 'saga'],\n",
    "}\n",
    "\n",
    "classes = np.unique(y_train)\n",
    "class_weights_array = compute_class_weight(\n",
    "    class_weight='balanced',\n",
    "    classes=classes,\n",
    "    y=y_train\n",
    ")\n",
    "class_weights = dict(zip(classes, class_weights_array))\n",
    "logreg = LogisticRegression(\n",
    "    # class_weight=class_weights, # это только хуже делает\n",
    "    max_iter=2000,\n",
    "    random_state=91\n",
    ")\n",
    "\n",
    "grid_search = GridSearchCV(logreg, param_grid, cv=8, scoring='f1_macro', n_jobs=-1, verbose=1)\n",
    "grid_search.fit(X_train_processed, y_train, sample_weight=weights_train)\n",
    "best_clf = grid_search.best_estimator_\n",
    "scores = cross_val_score(best_clf, preprocessor.transform(X), y, cv=8, scoring='accuracy')\n",
    "print(\"Best Params:\", grid_search.best_params_)\n",
    "\n",
    "best_clf.fit(X_train_processed, y_train, sample_weight=weights_train)\n",
    "\n",
    "# tests\n",
    "y_pred = best_clf.predict(X_test_processed)\n",
    "cm = confusion_matrix(y_test, y_pred)\n",
    "\n",
    "print(cm)\n",
    "print(classification_report(y_test, y_pred, target_names=['away_win','home_win']))\n",
    "ConfusionMatrixDisplay(cm, display_labels=['away_win','home_win']).plot(cmap='autumn')\n",
    "\n",
    "with open('../backend/goalsight/ml_models/model.pkl', 'wb') as f:\n",
    "    pickle.dump(best_clf, f)\n",
    "\n",
    "metrics = {\n",
    "    'cv_accuracy': scores.mean(),\n",
    "    'cv_std': scores.std(),\n",
    "    **classification_report(y_test, y_pred, output_dict=True)\n",
    "}\n",
    "\n",
    "metrics_path = '../backend/goalsight/ml_models/metrics.json'\n",
    "with open(metrics_path, 'w') as f:\n",
    "    json.dump(metrics, f, indent=2)\n",
    "\n",
    "with open('../backend/goalsight/ml_models/preprocessor.pkl', 'wb') as f:\n",
    "    pickle.dump(preprocessor, f)\n",
    "\n",
    "feature_list = [f for f in available_features if f != 'result_label']\n",
    "with open('features.json', 'w') as f:\n",
    "    json.dump(feature_list, f)\n",
    "\n",
    "class_mapping = {\"non_win\": 0,\"home_win\": 1}\n",
    "with open('class_mapping.json', 'w') as f:\n",
    "    json.dump(class_mapping, f)"
   ],
   "id": "2e2ccb555ded9369",
   "outputs": [
    {
     "name": "stdout",
     "output_type": "stream",
     "text": [
      "Fitting 8 folds for each of 10 candidates, totalling 80 fits\n",
      "Best Params: {'C': 1, 'solver': 'sag'}\n",
      "[[ 442  522]\n",
      " [ 202 1334]]\n",
      "              precision    recall  f1-score   support\n",
      "\n",
      "    away_win       0.69      0.46      0.55       964\n",
      "    home_win       0.72      0.87      0.79      1536\n",
      "\n",
      "    accuracy                           0.71      2500\n",
      "   macro avg       0.70      0.66      0.67      2500\n",
      "weighted avg       0.71      0.71      0.70      2500\n",
      "\n"
     ]
    },
    {
     "data": {
      "text/plain": [
       "<Figure size 640x480 with 2 Axes>"
      ],
      "image/png": "[encoded data removed]"
     },
     "metadata": {},
     "output_type": "display_data"
    }
   ],
   "execution_count": 6
  },
  {
   "metadata": {},
   "cell_type": "markdown",
   "source": [
    "### 14. Multi-Layer Perceptron (MLP) Training and Evaluation\n",
    "Training and evaluating a neural network model for enhanced pattern recognition in match outcome prediction.\n",
    "\n",
    "**Model architecture:**\n",
    "- Hidden layer configurations tested\n",
    "- Multiple activation functions\n",
    "- Adaptive learning rate\n",
    "- Early stopping to prevent overfitting\n",
    "\n",
    "**Hyperparameters tuned:**\n",
    "- Hidden layer sizes: (50,), (100,), (50,25), (100,50)\n",
    "- Activation functions: ReLU, tanh\n",
    "- Learning rate schedules: constant, adaptive\n",
    "- Regularization strength (alpha)\n",
    "\n",
    "**Advanced features:**\n",
    "- Early stopping with validation monitoring\n",
    "- Regularization for generalization\n",
    "- Comprehensive grid search optimization"
   ],
   "id": "618420e7b672a2ba"
  },
  {
   "metadata": {
    "ExecuteTime": {
     "end_time": "2025-07-20T09:57:00.499593Z",
     "start_time": "2025-07-20T09:55:43.964812Z"
    }
   },
   "cell_type": "code",
   "source": [
    "param_grid = {\n",
    "    'hidden_layer_sizes': [(50,), (100,), (50, 25), (100, 50)],\n",
    "    'activation': ['relu', 'tanh'],\n",
    "    'learning_rate': ['constant', 'adaptive'],\n",
    "    'alpha': [0.0001, 0.001, 0.01, 0.1]\n",
    "}\n",
    "\n",
    "mlp = MLPClassifier(\n",
    "    hidden_layer_sizes=(200,),\n",
    "    activation='relu',\n",
    "    learning_rate='adaptive',\n",
    "    alpha=0.001,\n",
    "    max_iter=2000,\n",
    "    random_state=91,\n",
    "    early_stopping=True,\n",
    "    validation_fraction=0.15,\n",
    "    n_iter_no_change=10\n",
    ")\n",
    "\n",
    "grid_search_mlp = GridSearchCV(\n",
    "    mlp,\n",
    "    param_grid,\n",
    "    cv=8,\n",
    "    scoring='f1_macro',\n",
    "    n_jobs=-1,\n",
    "    verbose=1\n",
    ")\n",
    "grid_search_mlp.fit(X_train_processed, y_train)\n",
    "best_mlp = grid_search_mlp.best_estimator_\n",
    "print(\"Лучшие параметры MLP:\", grid_search_mlp.best_params_)\n",
    "mlp_scores = cross_val_score(\n",
    "    best_mlp,\n",
    "    preprocessor.transform(X),\n",
    "    y,\n",
    "    cv=8,\n",
    "    scoring='accuracy'\n",
    ")\n",
    "print(f\"MLP CV accuracy: {mlp_scores.mean():.4f} ± {mlp_scores.std():.4f}\")\n",
    "best_mlp.fit(X_train_processed, y_train)\n",
    "y_pred_mlp = best_mlp.predict(X_test_processed)\n",
    "print(\"Confusion matrix for MLP:\")\n",
    "cm_mlp = confusion_matrix(y_test, y_pred_mlp)\n",
    "print(cm_mlp)\n",
    "print(\"Classification report for MLP:\")\n",
    "print(classification_report(y_test, y_pred_mlp, target_names=['away_win','home_win']))\n",
    "ConfusionMatrixDisplay(cm_mlp, display_labels=['away_win','home_win']).plot(cmap='autumn')"
   ],
   "id": "732419fd663fdcff",
   "outputs": [
    {
     "name": "stdout",
     "output_type": "stream",
     "text": [
      "Fitting 8 folds for each of 64 candidates, totalling 512 fits\n",
      "Лучшие параметры MLP: {'activation': 'tanh', 'alpha': 0.1, 'hidden_layer_sizes': (100, 50), 'learning_rate': 'constant'}\n",
      "MLP CV accuracy: 0.7002 ± 0.0146\n",
      "Confusion matrix for MLP:\n",
      "[[ 451  513]\n",
      " [ 207 1329]]\n",
      "Classification report for MLP:\n",
      "              precision    recall  f1-score   support\n",
      "\n",
      "    away_win       0.69      0.47      0.56       964\n",
      "    home_win       0.72      0.87      0.79      1536\n",
      "\n",
      "    accuracy                           0.71      2500\n",
      "   macro avg       0.70      0.67      0.67      2500\n",
      "weighted avg       0.71      0.71      0.70      2500\n",
      "\n"
     ]
    },
    {
     "data": {
      "text/plain": [
       "<sklearn.metrics._plot.confusion_matrix.ConfusionMatrixDisplay at 0x1ece07553d0>"
      ]
     },
     "execution_count": 7,
     "metadata": {},
     "output_type": "execute_result"
    },
    {
     "data": {
      "text/plain": [
       "<Figure size 640x480 with 2 Axes>"
      ],
      "image/png": "[encoded data removed]"
     },
     "metadata": {},
     "output_type": "display_data"
    }
   ],
   "execution_count": 7
  },
  {
   "metadata": {},
   "cell_type": "markdown",
   "source": [
    "### 15. Ensemble Models Setup\n",
    "\n",
    "Defining a diverse set of base learners to combine into ensemble predictors.\n",
    "Includes:\n",
    "- **Logistic Regression** and **MLPClassifier** (previously optimized)\n",
    "- **Support Vector Machine** for margin-based classification\n",
    "- **Random Forest** for bagged decision trees\n",
    "- **XGBoost** for gradient-boosted trees\n",
    "- **Gaussian Naive Bayes** for probabilistic modeling\n",
    "\n",
    "Each model brings complementary strengths to the ensemble."
   ],
   "id": "788e7e90053d3357"
  },
  {
   "metadata": {
    "ExecuteTime": {
     "end_time": "2025-07-20T09:59:48.217910Z",
     "start_time": "2025-07-20T09:59:48.210582Z"
    }
   },
   "cell_type": "code",
   "source": [
    "def get_base_models():\n",
    "    models = []\n",
    "    models.append(('lr', LogisticRegression(C=1, solver='sag', max_iter=2000, random_state=91)))\n",
    "    models.append(('mlp', MLPClassifier(\n",
    "        hidden_layer_sizes=(50,),\n",
    "        activation='tanh',\n",
    "        learning_rate='constant',\n",
    "        alpha=0.0001,\n",
    "        max_iter=2000,\n",
    "        random_state=91,\n",
    "        early_stopping=True,\n",
    "        validation_fraction=0.15,\n",
    "        n_iter_no_change=10\n",
    "    )))\n",
    "    models.append(('svm', SVC(probability=True, random_state=91)))\n",
    "    models.append(('rf', RandomForestClassifier(n_estimators=100, random_state=91)))\n",
    "    models.append(('xgb', xgb.XGBClassifier(random_state=91, eval_metric='logloss')))\n",
    "    models.append(('nb', GaussianNB()))\n",
    "    return models\n",
    "\n",
    "base_models = get_base_models()\n",
    "print(f\"base models for ensemble: {[name for name, _ in base_models]}\")"
   ],
   "id": "bacc53cfa7072df8",
   "outputs": [
    {
     "name": "stdout",
     "output_type": "stream",
     "text": [
      "Базовые модели для ансамбля: ['lr', 'mlp', 'svm', 'rf', 'xgb', 'nb']\n"
     ]
    }
   ],
   "execution_count": 11
  },
  {
   "metadata": {},
   "cell_type": "markdown",
   "source": [
    "### 16. Voting Classifier (Hard and Soft Voting)\n",
    "\n",
    "Applying **VotingClassifier** to aggregate base model predictions:\n",
    "- **Hard Voting**: majority voting of discrete class labels\n",
    "- **Soft Voting**: averaging predicted class probabilities\n",
    "\n",
    "Hard voting often yields stable results, while soft voting can leverage probability calibration."
   ],
   "id": "ee34eaf988dcbe8b"
  },
  {
   "metadata": {
    "ExecuteTime": {
     "end_time": "2025-07-20T10:01:02.682365Z",
     "start_time": "2025-07-20T09:59:51.979601Z"
    }
   },
   "cell_type": "code",
   "source": [
    "print(\"=== VOTING CLASSIFIER (HARD) ===\")\n",
    "voting_hard = VotingClassifier(\n",
    "    estimators=base_models,\n",
    "    voting='hard'\n",
    ")\n",
    "\n",
    "voting_hard.fit(X_train_processed, y_train)\n",
    "y_pred_voting_hard = voting_hard.predict(X_test_processed)\n",
    "\n",
    "print(\"Hard Voting Results:\")\n",
    "print(confusion_matrix(y_test, y_pred_voting_hard))\n",
    "print(classification_report(y_test, y_pred_voting_hard, target_names=['away_win','home_win']))\n",
    "voting_hard_accuracy = accuracy_score(y_test, y_pred_voting_hard)\n",
    "print(f\"Hard Voting Accuracy: {voting_hard_accuracy:.4f}\")\n",
    "\n",
    "print(\"\\n=== VOTING CLASSIFIER (SOFT) ===\")\n",
    "voting_soft = VotingClassifier(\n",
    "    estimators=base_models,\n",
    "    voting='soft'\n",
    ")\n",
    "\n",
    "voting_soft.fit(X_train_processed, y_train)\n",
    "y_pred_voting_soft = voting_soft.predict(X_test_processed)\n",
    "\n",
    "print(\"Soft Voting Results:\")\n",
    "print(confusion_matrix(y_test, y_pred_voting_soft))\n",
    "print(classification_report(y_test, y_pred_voting_soft, target_names=['away_win','home_win']))\n",
    "voting_soft_accuracy = accuracy_score(y_test, y_pred_voting_soft)\n",
    "print(f\"Soft Voting Accuracy: {voting_soft_accuracy:.4f}\")"
   ],
   "id": "fa3d4dc7ad6fb3d6",
   "outputs": [
    {
     "name": "stdout",
     "output_type": "stream",
     "text": [
      "=== VOTING CLASSIFIER (HARD) ===\n",
      "Hard Voting Results:\n",
      "[[ 535  410]\n",
      " [ 238 1086]]\n",
      "              precision    recall  f1-score   support\n",
      "\n",
      "    away_win       0.69      0.57      0.62       945\n",
      "    home_win       0.73      0.82      0.77      1324\n",
      "\n",
      "    accuracy                           0.71      2269\n",
      "   macro avg       0.71      0.69      0.70      2269\n",
      "weighted avg       0.71      0.71      0.71      2269\n",
      "\n",
      "Hard Voting Accuracy: 0.7144\n",
      "\n",
      "=== VOTING CLASSIFIER (SOFT) ===\n",
      "Soft Voting Results:\n",
      "[[ 511  434]\n",
      " [ 218 1106]]\n",
      "              precision    recall  f1-score   support\n",
      "\n",
      "    away_win       0.70      0.54      0.61       945\n",
      "    home_win       0.72      0.84      0.77      1324\n",
      "\n",
      "    accuracy                           0.71      2269\n",
      "   macro avg       0.71      0.69      0.69      2269\n",
      "weighted avg       0.71      0.71      0.70      2269\n",
      "\n",
      "Soft Voting Accuracy: 0.7126\n"
     ]
    }
   ],
   "execution_count": 12
  },
  {
   "metadata": {},
   "cell_type": "markdown",
   "source": [
    "### 17. Stacking Classifier\n",
    "\n",
    "Building a **StackingClassifier** that:\n",
    "1. Trains base learners with cross-validated predictions\n",
    "2. Uses a **Logistic Regression** meta-model on their probability outputs\n",
    "3. Optionally experiments with alternative meta-models (Random Forest, XGBoost)\n",
    "\n",
    "Stacking can capture higher-order relationships among base predictions."
   ],
   "id": "7aa3c2e2de83b47b"
  },
  {
   "metadata": {
    "ExecuteTime": {
     "end_time": "2025-07-20T11:34:50.132833Z",
     "start_time": "2025-07-20T11:31:15.763714Z"
    }
   },
   "cell_type": "code",
   "source": [
    "print(\"\\n=== STACKING CLASSIFIER ===\")\n",
    "\n",
    "stacking_clf = StackingClassifier(\n",
    "    estimators=base_models,\n",
    "    final_estimator=LogisticRegression(random_state=91),\n",
    "    cv=5,\n",
    "    stack_method='predict_proba',\n",
    "    n_jobs=-1\n",
    ")\n",
    "\n",
    "stacking_clf.fit(X_train_processed, y_train)\n",
    "y_pred_stacking = stacking_clf.predict(X_test_processed)\n",
    "\n",
    "print(\"Stacking Results:\")\n",
    "print(confusion_matrix(y_test, y_pred_stacking))\n",
    "print(classification_report(y_test, y_pred_stacking, target_names=['away_win','home_win']))\n",
    "stacking_accuracy = accuracy_score(y_test, y_pred_stacking)\n",
    "print(f\"Stacking Accuracy: {stacking_accuracy:.4f}\")\n",
    "\n",
    "print(\"\\n=== STACKING WITH DIFFERENT META-MODELS ===\")\n",
    "\n",
    "meta_models = [\n",
    "    ('lr_meta', LogisticRegression(random_state=91)),\n",
    "    ('rf_meta', RandomForestClassifier(n_estimators=50, random_state=91)),\n",
    "    ('xgb_meta', xgb.XGBClassifier(random_state=91, eval_metric='logloss'))\n",
    "]\n",
    "\n",
    "stacking_results = {}\n",
    "for meta_name, meta_model in meta_models:\n",
    "    stack_clf = StackingClassifier(\n",
    "        estimators=base_models,\n",
    "        final_estimator=meta_model,\n",
    "        cv=3,\n",
    "        n_jobs=-1\n",
    "    )\n",
    "\n",
    "    stack_clf.fit(X_train_processed, y_train)\n",
    "    y_pred = stack_clf.predict(X_test_processed)\n",
    "    acc = accuracy_score(y_test, y_pred)\n",
    "    stacking_results[meta_name] = acc\n",
    "    print(f\"Stacking with {meta_name}: {acc:.4f}\")"
   ],
   "id": "f7217504525f8780",
   "outputs": [
    {
     "name": "stdout",
     "output_type": "stream",
     "text": [
      "\n",
      "=== STACKING CLASSIFIER ===\n",
      "Stacking Results:\n",
      "[[ 541  404]\n",
      " [ 238 1086]]\n",
      "              precision    recall  f1-score   support\n",
      "\n",
      "    away_win       0.69      0.57      0.63       945\n",
      "    home_win       0.73      0.82      0.77      1324\n",
      "\n",
      "    accuracy                           0.72      2269\n",
      "   macro avg       0.71      0.70      0.70      2269\n",
      "weighted avg       0.71      0.72      0.71      2269\n",
      "\n",
      "Stacking Accuracy: 0.7171\n",
      "\n",
      "=== STACKING WITH DIFFERENT META-MODELS ===\n",
      "Stacking with lr_meta: 0.7166\n",
      "Stacking with rf_meta: 0.6884\n",
      "Stacking with xgb_meta: 0.6968\n"
     ]
    }
   ],
   "execution_count": 21
  },
  {
   "metadata": {},
   "cell_type": "markdown",
   "source": [
    "### 18. Blending Ensemble\n",
    "\n",
    "Implementing manual blending:\n",
    "1. **Split** the training set into training and hold-out folds\n",
    "2. **Train** each base model on the training fold\n",
    "3. **Predict** probabilities on the hold-out and test sets\n",
    "4. **Fit** a meta-learner (Logistic Regression) on hold-out predictions\n",
    "5. **Combine** test-set probabilities via the trained blender\n",
    "\n",
    "Blending is a simpler, faster variant of stacking with a single hold-out split."
   ],
   "id": "d1bace490123e05e"
  },
  {
   "metadata": {
    "ExecuteTime": {
     "end_time": "2025-07-20T11:50:49.775012Z",
     "start_time": "2025-07-20T11:50:26.720020Z"
    }
   },
   "cell_type": "code",
   "source": [
    "print(\"\\n=== BLENDING ENSEMBLE ===\")\n",
    "\n",
    "def create_blending_ensemble(models, X_train, X_val, y_train, y_val, X_test):\n",
    "    \"\"\"\n",
    "    Create blending ensemble\n",
    "    \"\"\"\n",
    "    blend_train = np.zeros((X_val.shape[0], len(models)))\n",
    "    blend_test = np.zeros((X_test.shape[0], len(models)))\n",
    "\n",
    "    for i, (name, model) in enumerate(models):\n",
    "        print(f\"Training {name} for blending...\")\n",
    "        model.fit(X_train, y_train)\n",
    "\n",
    "        y_val_pred = model.predict_proba(X_val)[:, 1]  # Вероятность класса 1\n",
    "        blend_train[:, i] = y_val_pred\n",
    "\n",
    "        y_test_pred = model.predict_proba(X_test)[:, 1]\n",
    "        blend_test[:, i] = y_test_pred\n",
    "\n",
    "    blender = LogisticRegression(random_state=91)\n",
    "    blender.fit(blend_train, y_val)\n",
    "\n",
    "    final_predictions = blender.predict(blend_test)\n",
    "    return final_predictions, blender\n",
    "\n",
    "X_blend_train, X_blend_val, y_blend_train, y_blend_val = train_test_split(\n",
    "    X_train_processed, y_train, test_size=0.2, stratify=y_train, random_state=91\n",
    ")\n",
    "\n",
    "y_pred_blending, blender_model = create_blending_ensemble(\n",
    "    base_models,\n",
    "    X_blend_train, X_blend_val, y_blend_train, y_blend_val, X_test_processed\n",
    ")\n",
    "\n",
    "print(\"Blending Results:\")\n",
    "print(confusion_matrix(y_test, y_pred_blending))\n",
    "print(classification_report(y_test, y_pred_blending, target_names=['away_win','home_win']))\n",
    "blending_accuracy = accuracy_score(y_test, y_pred_blending)\n",
    "print(f\"Blending Accuracy: {blending_accuracy:.4f}\")"
   ],
   "id": "cb18b6f9c0e1ce36",
   "outputs": [
    {
     "name": "stdout",
     "output_type": "stream",
     "text": [
      "\n",
      "=== BLENDING ENSEMBLE ===\n",
      "Training lr for blending...\n",
      "Training mlp for blending...\n",
      "Training svm for blending...\n",
      "Training rf for blending...\n",
      "Training xgb for blending...\n",
      "Training nb for blending...\n",
      "Blending Results:\n",
      "[[ 554  391]\n",
      " [ 248 1076]]\n",
      "              precision    recall  f1-score   support\n",
      "\n",
      "    away_win       0.69      0.59      0.63       945\n",
      "    home_win       0.73      0.81      0.77      1324\n",
      "\n",
      "    accuracy                           0.72      2269\n",
      "   macro avg       0.71      0.70      0.70      2269\n",
      "weighted avg       0.72      0.72      0.71      2269\n",
      "\n",
      "Blending Accuracy: 0.7184\n"
     ]
    }
   ],
   "execution_count": 27
  },
  {
   "metadata": {},
   "cell_type": "markdown",
   "source": [
    "### 19. Weighted Averaging Ensemble\n",
    "\n",
    "Combining base model probability predictions with custom weights:\n",
    "- **Equal** weights for uniform influence\n",
    "- **lr_heavy** emphasizing logistic regression\n",
    "- **balanced** proportional to cross-validated performance\n",
    "\n",
    "Weighted averaging is intuitive and often competitive with minimal tuning."
   ],
   "id": "23c50c2a3dcefedf"
  },
  {
   "metadata": {
    "ExecuteTime": {
     "end_time": "2025-07-20T11:54:51.477997Z",
     "start_time": "2025-07-20T11:52:41.839208Z"
    }
   },
   "cell_type": "code",
   "source": [
    "print(\"\\n=== WEIGHTED AVERAGING ===\")\n",
    "\n",
    "def weighted_ensemble_predictions(models, X_train, X_test, y_train, weights=None):\n",
    "    \"\"\"\n",
    "    Create weighted ensemble\n",
    "    \"\"\"\n",
    "    if weights is None:\n",
    "        weights = [1.0] * len(models)\n",
    "\n",
    "    weights = np.array(weights)\n",
    "    weights = weights / weights.sum()\n",
    "\n",
    "    predictions = np.zeros(X_test.shape[0])\n",
    "\n",
    "    for i, (name, model) in enumerate(models):\n",
    "        model.fit(X_train, y_train)\n",
    "        y_pred_proba = model.predict_proba(X_test)[:, 1]\n",
    "        predictions += weights[i] * y_pred_proba\n",
    "\n",
    "    final_predictions = (predictions > 0.5).astype(int)\n",
    "    return final_predictions\n",
    "\n",
    "weight_schemes = {\n",
    "    'equal': [1, 1, 1, 1],\n",
    "    'lr_heavy': [3, 1, 1, 1],\n",
    "    'balanced': [2, 2, 1, 1],\n",
    "}\n",
    "\n",
    "weighted_results = {}\n",
    "for scheme_name, weights in weight_schemes.items():\n",
    "    y_pred_weighted = weighted_ensemble_predictions(\n",
    "        base_models[:4], X_train_processed, X_test_processed, y_train, weights\n",
    "    )\n",
    "\n",
    "    acc = accuracy_score(y_test, y_pred_weighted)\n",
    "    weighted_results[scheme_name] = acc\n",
    "    print(f\"Weighted Averaging ({scheme_name}): {acc:.4f}\")"
   ],
   "id": "d2673ccb9387066a",
   "outputs": [
    {
     "name": "stdout",
     "output_type": "stream",
     "text": [
      "\n",
      "=== WEIGHTED AVERAGING ===\n",
      "Weighted Averaging (equal): 0.7126\n",
      "Weighted Averaging (lr_heavy): 0.7175\n",
      "Weighted Averaging (balanced): 0.7184\n"
     ]
    }
   ],
   "execution_count": 29
  },
  {
   "metadata": {},
   "cell_type": "markdown",
   "source": [
    "### 20. Performance Comparison\n",
    "\n",
    "Aggregating accuracy scores for:\n",
    "- **Individual models** (Logistic Regression, MLP)\n",
    "- **Ensembles** (Hard/Soft Voting, Stacking, Blending, Weighted Averaging)\n",
    "\n",
    "Identifying the best-performing approach and measuring improvement over the best single model."
   ],
   "id": "9df60ea11ba0457b"
  },
  {
   "metadata": {
    "ExecuteTime": {
     "end_time": "2025-07-20T11:55:00.071549Z",
     "start_time": "2025-07-20T11:55:00.060287Z"
    }
   },
   "cell_type": "code",
   "source": [
    "print(\"\\n=== COMPARISON OF ALL APPROACHES ===\")\n",
    "\n",
    "y_pred = best_clf.predict(X_test_processed)\n",
    "\n",
    "individual_scores = {\n",
    "    'Logistic Regression': accuracy_score(y_test, y_pred),\n",
    "    'MLP': accuracy_score(y_test, y_pred_mlp)\n",
    "}\n",
    "\n",
    "ensemble_scores = {\n",
    "    'Hard Voting': voting_hard_accuracy,\n",
    "    'Soft Voting': voting_soft_accuracy,\n",
    "    'Stacking': stacking_accuracy,\n",
    "    'Blending': blending_accuracy,\n",
    "}\n",
    "\n",
    "ensemble_scores.update({f'Weighted ({k})': v for k, v in weighted_results.items()})\n",
    "\n",
    "print(\"Individual Models:\")\n",
    "for name, score in individual_scores.items():\n",
    "    print(f\"  {name}: {score:.4f}\")\n",
    "\n",
    "print(\"\\nEnsemble Models:\")\n",
    "for name, score in ensemble_scores.items():\n",
    "    print(f\"  {name}: {score:.4f}\")\n",
    "\n",
    "all_scores = {**individual_scores, **ensemble_scores}\n",
    "best_model = max(all_scores, key=all_scores.get)\n",
    "print(f\"\\nBest performing model: {best_model} with accuracy: {all_scores[best_model]:.4f}\")\n",
    "\n",
    "best_individual = max(individual_scores.values())\n",
    "best_ensemble = max(ensemble_scores.values())\n",
    "improvement = best_ensemble - best_individual\n",
    "print(f\"Improvement over best individual model: {improvement:.4f} ({improvement*100:.2f}%)\")"
   ],
   "id": "49629793ef875854",
   "outputs": [
    {
     "name": "stdout",
     "output_type": "stream",
     "text": [
      "\n",
      "=== COMPARISON OF ALL APPROACHES ===\n",
      "Individual Models:\n",
      "  Logistic Regression: 0.7215\n",
      "  MLP: 0.7087\n",
      "\n",
      "Ensemble Models:\n",
      "  Hard Voting: 0.7144\n",
      "  Soft Voting: 0.7126\n",
      "  Stacking: 0.7171\n",
      "  Blending: 0.7184\n",
      "  Weighted (equal): 0.7126\n",
      "  Weighted (lr_heavy): 0.7175\n",
      "  Weighted (balanced): 0.7184\n",
      "\n",
      "Best performing model: Logistic Regression with accuracy: 0.7215\n",
      "Improvement over best individual model: -0.0031 (-0.31%)\n"
     ]
    }
   ],
   "execution_count": 30
  },
  {
   "metadata": {},
   "cell_type": "markdown",
   "source": [
    "### 21. Results Visualization\n",
    "\n",
    "Creating a bar chart to compare accuracies:\n",
    "- **Individual models** in blue  \n",
    "- **Ensemble methods** in red  \n",
    "\n",
    "Annotations show exact accuracy values. Visual comparison highlights which ensemble (or individual) model performs best."
   ],
   "id": "cb49bed5ae61f647"
  },
  {
   "metadata": {
    "ExecuteTime": {
     "end_time": "2025-07-20T11:55:05.312858Z",
     "start_time": "2025-07-20T11:55:05.112668Z"
    }
   },
   "cell_type": "code",
   "source": [
    "print(\"\\n=== VISUALIZATION ===\")\n",
    "\n",
    "plt.figure(figsize=(12, 8))\n",
    "models = list(all_scores.keys())\n",
    "scores = list(all_scores.values())\n",
    "colors = []\n",
    "for model in models:\n",
    "    if any(x in model.lower() for x in ['voting', 'stacking', 'blending', 'weighted']):\n",
    "        colors.append('lightcoral')\n",
    "    else:\n",
    "        colors.append('lightblue')\n",
    "\n",
    "bars = plt.bar(range(len(models)), scores, color=colors, alpha=0.8)\n",
    "plt.xlabel('Models')\n",
    "plt.ylabel('Accuracy')\n",
    "plt.title('Comparison of Individual vs Ensemble Models')\n",
    "plt.xticks(range(len(models)), models, rotation=45, ha='right')\n",
    "\n",
    "for i, (bar, score) in enumerate(zip(bars, scores)):\n",
    "    plt.text(bar.get_x() + bar.get_width()/2, bar.get_height() + 0.001,\n",
    "             f'{score:.4f}', ha='center', va='bottom', fontsize=9)\n",
    "\n",
    "from matplotlib.patches import Patch\n",
    "legend_elements = [Patch(facecolor='lightblue', label='Individual Models'),\n",
    "                   Patch(facecolor='lightcoral', label='Ensemble Models')]\n",
    "plt.legend(handles=legend_elements)\n",
    "\n",
    "plt.grid(axis='y', alpha=0.3)\n",
    "plt.tight_layout()\n",
    "plt.show()"
   ],
   "id": "e086eb698bb2de42",
   "outputs": [
    {
     "name": "stdout",
     "output_type": "stream",
     "text": [
      "\n",
      "=== VISUALIZATION ===\n"
     ]
    },
    {
     "data": {
      "text/plain": [
       "<Figure size 1200x800 with 1 Axes>"
      ],
      "image/png": "[encoded data removed]"
     },
     "metadata": {},
     "output_type": "display_data"
    }
   ],
   "execution_count": 31
  }
 ],
 "metadata": {
  "kernelspec": {
   "display_name": "Python 3",
   "language": "python",
   "name": "python3"
  },
  "language_info": {
   "codemirror_mode": {
    "name": "ipython",
    "version": 2
   },
   "file_extension": ".py",
   "mimetype": "text/x-python",
   "name": "python",
   "nbconvert_exporter": "python",
   "pygments_lexer": "ipython2",
   "version": "2.7.6"
  }
 },
 "nbformat": 4,
 "nbformat_minor": 5
}
